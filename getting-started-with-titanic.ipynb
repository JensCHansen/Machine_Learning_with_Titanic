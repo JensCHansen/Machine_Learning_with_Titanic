{
 "cells": [
  {
   "cell_type": "markdown",
   "execution_count": null,
   "metadata": {
    "papermill": {
     "duration": 0.025378,
     "end_time": "2020-09-01T16:51:31.628644",
     "exception": false,
     "start_time": "2020-09-01T16:51:31.603266",
     "status": "completed"
    },
    "tags": []
   },
   "source": [
    "# Introduction\n",
    "In the following I want to deal with the legendary Titanic Disaster Survival Challenge which has become one of the standard projects for newcomers to Data Science and Machine Learning. \n",
    "Having an own project to start with is a wonderful way of diving into Machine Learning and building a deeper knowledge and understanding. \n",
    "<br>\n",
    "The ultimate goal of the challenge is to predict the survival of Titanic passengers. \n",
    "<br>\n",
    "The notebook follows the basic framework for tackling a Machine Learning project:\n",
    "* Import necessary Python Libaries\n",
    "* Load and explore the data\n",
    "* Analyse the data\n",
    "* Select and clean the data\n",
    "* Enhance existing features and engineer new features\n",
    "* Apply a Machine Learnng model\n",
    "* Train and test the model\n"
   ]
  },
  {
   "cell_type": "markdown",
   "execution_count": null,
   "metadata": {
    "papermill": {
     "duration": 0.021866,
     "end_time": "2020-09-01T16:51:31.672934",
     "exception": false,
     "start_time": "2020-09-01T16:51:31.651068",
     "status": "completed"
    },
    "tags": []
   },
   "source": [
    "# Import libaries"
   ]
  },
  {
   "cell_type": "code",
   "execution_count": 1,
   "metadata": {
    "_cell_guid": "b1076dfc-b9ad-4769-8c92-a6c4dae69d19",
    "_uuid": "8f2839f25d086af736a60e9eeb907d3b93b6e0e5",
    "execution": {
     "iopub.execute_input": "2020-09-01T16:51:31.727187Z",
     "iopub.status.busy": "2020-09-01T16:51:31.726445Z",
     "iopub.status.idle": "2020-09-01T16:51:33.076971Z",
     "shell.execute_reply": "2020-09-01T16:51:33.076041Z"
    },
    "papermill": {
     "duration": 1.382058,
     "end_time": "2020-09-01T16:51:33.077176",
     "exception": false,
     "start_time": "2020-09-01T16:51:31.695118",
     "status": "completed"
    },
    "tags": []
   },
   "outputs": [
    {
     "name": "stdout",
     "output_type": "stream",
     "text": [
      "/kaggle/input/titanic/gender_submission.csv\n",
      "/kaggle/input/titanic/test.csv\n",
      "/kaggle/input/titanic/train.csv\n",
      "-------------------------\n"
     ]
    }
   ],
   "source": [
    "# Import libaries\n",
    "import numpy as np # linear algebra\n",
    "import pandas as pd # data processing, CSV file I/O (e.g. pd.read_csv)\n",
    "import missingno as msno\n",
    "import matplotlib.pyplot as plt # plot graphs\n",
    "import seaborn as sns # plot graphs\n",
    "from sklearn import preprocessing\n",
    "\n",
    "import os # read files\n",
    "for dirname, _, filenames in os.walk('/kaggle/input'):\n",
    "    for filename in filenames:\n",
    "        print(os.path.join(dirname, filename))\n",
    "\n",
    "# Random forest model\n",
    "from sklearn.ensemble import RandomForestClassifier\n",
    "        \n",
    "# Ignore warnings\n",
    "import warnings\n",
    "warnings.filterwarnings('ignore')\n",
    "print('-'*25)"
   ]
  },
  {
   "cell_type": "markdown",
   "execution_count": null,
   "metadata": {
    "papermill": {
     "duration": 0.021948,
     "end_time": "2020-09-01T16:51:33.122208",
     "exception": false,
     "start_time": "2020-09-01T16:51:33.100260",
     "status": "completed"
    },
    "tags": []
   },
   "source": [
    "# **Load and explore data**\n",
    "\n",
    "<br>\n",
    "Let's get startet with the dataset. \n",
    "<br>\n",
    "Usally this means loading the data and storing it to a structured variable (in our case a Pandas dataframe).\n",
    "<br>\n",
    "The head()-method is useful to quickly examine the first few rows of the data."
   ]
  },
  {
   "cell_type": "code",
   "execution_count": 2,
   "metadata": {
    "_cell_guid": "79c7e3d0-c299-4dcb-8224-4455121ee9b0",
    "_uuid": "d629ff2d2480ee46fbb7e2d37f6b5fab8052498a",
    "execution": {
     "iopub.execute_input": "2020-09-01T16:51:33.172907Z",
     "iopub.status.busy": "2020-09-01T16:51:33.172172Z",
     "iopub.status.idle": "2020-09-01T16:51:33.208199Z",
     "shell.execute_reply": "2020-09-01T16:51:33.208816Z"
    },
    "papermill": {
     "duration": 0.064627,
     "end_time": "2020-09-01T16:51:33.208978",
     "exception": false,
     "start_time": "2020-09-01T16:51:33.144351",
     "status": "completed"
    },
    "tags": []
   },
   "outputs": [
    {
     "data": {
      "text/html": [
       "<div>\n",
       "<style scoped>\n",
       "    .dataframe tbody tr th:only-of-type {\n",
       "        vertical-align: middle;\n",
       "    }\n",
       "\n",
       "    .dataframe tbody tr th {\n",
       "        vertical-align: top;\n",
       "    }\n",
       "\n",
       "    .dataframe thead th {\n",
       "        text-align: right;\n",
       "    }\n",
       "</style>\n",
       "<table border=\"1\" class=\"dataframe\">\n",
       "  <thead>\n",
       "    <tr style=\"text-align: right;\">\n",
       "      <th></th>\n",
       "      <th>PassengerId</th>\n",
       "      <th>Survived</th>\n",
       "      <th>Pclass</th>\n",
       "      <th>Name</th>\n",
       "      <th>Sex</th>\n",
       "      <th>Age</th>\n",
       "      <th>SibSp</th>\n",
       "      <th>Parch</th>\n",
       "      <th>Ticket</th>\n",
       "      <th>Fare</th>\n",
       "      <th>Cabin</th>\n",
       "      <th>Embarked</th>\n",
       "    </tr>\n",
       "  </thead>\n",
       "  <tbody>\n",
       "    <tr>\n",
       "      <th>0</th>\n",
       "      <td>1</td>\n",
       "      <td>0</td>\n",
       "      <td>3</td>\n",
       "      <td>Braund, Mr. Owen Harris</td>\n",
       "      <td>male</td>\n",
       "      <td>22.0</td>\n",
       "      <td>1</td>\n",
       "      <td>0</td>\n",
       "      <td>A/5 21171</td>\n",
       "      <td>7.2500</td>\n",
       "      <td>NaN</td>\n",
       "      <td>S</td>\n",
       "    </tr>\n",
       "    <tr>\n",
       "      <th>1</th>\n",
       "      <td>2</td>\n",
       "      <td>1</td>\n",
       "      <td>1</td>\n",
       "      <td>Cumings, Mrs. John Bradley (Florence Briggs Th...</td>\n",
       "      <td>female</td>\n",
       "      <td>38.0</td>\n",
       "      <td>1</td>\n",
       "      <td>0</td>\n",
       "      <td>PC 17599</td>\n",
       "      <td>71.2833</td>\n",
       "      <td>C85</td>\n",
       "      <td>C</td>\n",
       "    </tr>\n",
       "    <tr>\n",
       "      <th>2</th>\n",
       "      <td>3</td>\n",
       "      <td>1</td>\n",
       "      <td>3</td>\n",
       "      <td>Heikkinen, Miss. Laina</td>\n",
       "      <td>female</td>\n",
       "      <td>26.0</td>\n",
       "      <td>0</td>\n",
       "      <td>0</td>\n",
       "      <td>STON/O2. 3101282</td>\n",
       "      <td>7.9250</td>\n",
       "      <td>NaN</td>\n",
       "      <td>S</td>\n",
       "    </tr>\n",
       "    <tr>\n",
       "      <th>3</th>\n",
       "      <td>4</td>\n",
       "      <td>1</td>\n",
       "      <td>1</td>\n",
       "      <td>Futrelle, Mrs. Jacques Heath (Lily May Peel)</td>\n",
       "      <td>female</td>\n",
       "      <td>35.0</td>\n",
       "      <td>1</td>\n",
       "      <td>0</td>\n",
       "      <td>113803</td>\n",
       "      <td>53.1000</td>\n",
       "      <td>C123</td>\n",
       "      <td>S</td>\n",
       "    </tr>\n",
       "    <tr>\n",
       "      <th>4</th>\n",
       "      <td>5</td>\n",
       "      <td>0</td>\n",
       "      <td>3</td>\n",
       "      <td>Allen, Mr. William Henry</td>\n",
       "      <td>male</td>\n",
       "      <td>35.0</td>\n",
       "      <td>0</td>\n",
       "      <td>0</td>\n",
       "      <td>373450</td>\n",
       "      <td>8.0500</td>\n",
       "      <td>NaN</td>\n",
       "      <td>S</td>\n",
       "    </tr>\n",
       "  </tbody>\n",
       "</table>\n",
       "</div>"
      ],
      "text/plain": [
       "   PassengerId  Survived  Pclass  \\\n",
       "0            1         0       3   \n",
       "1            2         1       1   \n",
       "2            3         1       3   \n",
       "3            4         1       1   \n",
       "4            5         0       3   \n",
       "\n",
       "                                                Name     Sex   Age  SibSp  \\\n",
       "0                            Braund, Mr. Owen Harris    male  22.0      1   \n",
       "1  Cumings, Mrs. John Bradley (Florence Briggs Th...  female  38.0      1   \n",
       "2                             Heikkinen, Miss. Laina  female  26.0      0   \n",
       "3       Futrelle, Mrs. Jacques Heath (Lily May Peel)  female  35.0      1   \n",
       "4                           Allen, Mr. William Henry    male  35.0      0   \n",
       "\n",
       "   Parch            Ticket     Fare Cabin Embarked  \n",
       "0      0         A/5 21171   7.2500   NaN        S  \n",
       "1      0          PC 17599  71.2833   C85        C  \n",
       "2      0  STON/O2. 3101282   7.9250   NaN        S  \n",
       "3      0            113803  53.1000  C123        S  \n",
       "4      0            373450   8.0500   NaN        S  "
      ]
     },
     "execution_count": 2,
     "metadata": {},
     "output_type": "execute_result"
    }
   ],
   "source": [
    "# Load train data and display first 5 lines\n",
    "train_data = pd.read_csv(\"/kaggle/input/titanic/train.csv\")\n",
    "train_data.head(5) # show first 5 rows"
   ]
  },
  {
   "cell_type": "code",
   "execution_count": 3,
   "metadata": {
    "execution": {
     "iopub.execute_input": "2020-09-01T16:51:33.261376Z",
     "iopub.status.busy": "2020-09-01T16:51:33.260544Z",
     "iopub.status.idle": "2020-09-01T16:51:33.281239Z",
     "shell.execute_reply": "2020-09-01T16:51:33.281756Z"
    },
    "papermill": {
     "duration": 0.049654,
     "end_time": "2020-09-01T16:51:33.281910",
     "exception": false,
     "start_time": "2020-09-01T16:51:33.232256",
     "status": "completed"
    },
    "tags": []
   },
   "outputs": [
    {
     "data": {
      "text/html": [
       "<div>\n",
       "<style scoped>\n",
       "    .dataframe tbody tr th:only-of-type {\n",
       "        vertical-align: middle;\n",
       "    }\n",
       "\n",
       "    .dataframe tbody tr th {\n",
       "        vertical-align: top;\n",
       "    }\n",
       "\n",
       "    .dataframe thead th {\n",
       "        text-align: right;\n",
       "    }\n",
       "</style>\n",
       "<table border=\"1\" class=\"dataframe\">\n",
       "  <thead>\n",
       "    <tr style=\"text-align: right;\">\n",
       "      <th></th>\n",
       "      <th>PassengerId</th>\n",
       "      <th>Pclass</th>\n",
       "      <th>Name</th>\n",
       "      <th>Sex</th>\n",
       "      <th>Age</th>\n",
       "      <th>SibSp</th>\n",
       "      <th>Parch</th>\n",
       "      <th>Ticket</th>\n",
       "      <th>Fare</th>\n",
       "      <th>Cabin</th>\n",
       "      <th>Embarked</th>\n",
       "    </tr>\n",
       "  </thead>\n",
       "  <tbody>\n",
       "    <tr>\n",
       "      <th>0</th>\n",
       "      <td>892</td>\n",
       "      <td>3</td>\n",
       "      <td>Kelly, Mr. James</td>\n",
       "      <td>male</td>\n",
       "      <td>34.5</td>\n",
       "      <td>0</td>\n",
       "      <td>0</td>\n",
       "      <td>330911</td>\n",
       "      <td>7.8292</td>\n",
       "      <td>NaN</td>\n",
       "      <td>Q</td>\n",
       "    </tr>\n",
       "    <tr>\n",
       "      <th>1</th>\n",
       "      <td>893</td>\n",
       "      <td>3</td>\n",
       "      <td>Wilkes, Mrs. James (Ellen Needs)</td>\n",
       "      <td>female</td>\n",
       "      <td>47.0</td>\n",
       "      <td>1</td>\n",
       "      <td>0</td>\n",
       "      <td>363272</td>\n",
       "      <td>7.0000</td>\n",
       "      <td>NaN</td>\n",
       "      <td>S</td>\n",
       "    </tr>\n",
       "    <tr>\n",
       "      <th>2</th>\n",
       "      <td>894</td>\n",
       "      <td>2</td>\n",
       "      <td>Myles, Mr. Thomas Francis</td>\n",
       "      <td>male</td>\n",
       "      <td>62.0</td>\n",
       "      <td>0</td>\n",
       "      <td>0</td>\n",
       "      <td>240276</td>\n",
       "      <td>9.6875</td>\n",
       "      <td>NaN</td>\n",
       "      <td>Q</td>\n",
       "    </tr>\n",
       "    <tr>\n",
       "      <th>3</th>\n",
       "      <td>895</td>\n",
       "      <td>3</td>\n",
       "      <td>Wirz, Mr. Albert</td>\n",
       "      <td>male</td>\n",
       "      <td>27.0</td>\n",
       "      <td>0</td>\n",
       "      <td>0</td>\n",
       "      <td>315154</td>\n",
       "      <td>8.6625</td>\n",
       "      <td>NaN</td>\n",
       "      <td>S</td>\n",
       "    </tr>\n",
       "    <tr>\n",
       "      <th>4</th>\n",
       "      <td>896</td>\n",
       "      <td>3</td>\n",
       "      <td>Hirvonen, Mrs. Alexander (Helga E Lindqvist)</td>\n",
       "      <td>female</td>\n",
       "      <td>22.0</td>\n",
       "      <td>1</td>\n",
       "      <td>1</td>\n",
       "      <td>3101298</td>\n",
       "      <td>12.2875</td>\n",
       "      <td>NaN</td>\n",
       "      <td>S</td>\n",
       "    </tr>\n",
       "  </tbody>\n",
       "</table>\n",
       "</div>"
      ],
      "text/plain": [
       "   PassengerId  Pclass                                          Name     Sex  \\\n",
       "0          892       3                              Kelly, Mr. James    male   \n",
       "1          893       3              Wilkes, Mrs. James (Ellen Needs)  female   \n",
       "2          894       2                     Myles, Mr. Thomas Francis    male   \n",
       "3          895       3                              Wirz, Mr. Albert    male   \n",
       "4          896       3  Hirvonen, Mrs. Alexander (Helga E Lindqvist)  female   \n",
       "\n",
       "    Age  SibSp  Parch   Ticket     Fare Cabin Embarked  \n",
       "0  34.5      0      0   330911   7.8292   NaN        Q  \n",
       "1  47.0      1      0   363272   7.0000   NaN        S  \n",
       "2  62.0      0      0   240276   9.6875   NaN        Q  \n",
       "3  27.0      0      0   315154   8.6625   NaN        S  \n",
       "4  22.0      1      1  3101298  12.2875   NaN        S  "
      ]
     },
     "execution_count": 3,
     "metadata": {},
     "output_type": "execute_result"
    }
   ],
   "source": [
    "# Load test data and display first 5 lines\n",
    "test_data = pd.read_csv(\"/kaggle/input/titanic/test.csv\")\n",
    "test_data.head(5) # show first 5 rows"
   ]
  },
  {
   "cell_type": "code",
   "execution_count": 4,
   "metadata": {
    "execution": {
     "iopub.execute_input": "2020-09-01T16:51:33.334414Z",
     "iopub.status.busy": "2020-09-01T16:51:33.333632Z",
     "iopub.status.idle": "2020-09-01T16:51:33.336172Z",
     "shell.execute_reply": "2020-09-01T16:51:33.336736Z"
    },
    "papermill": {
     "duration": 0.031623,
     "end_time": "2020-09-01T16:51:33.336894",
     "exception": false,
     "start_time": "2020-09-01T16:51:33.305271",
     "status": "completed"
    },
    "tags": []
   },
   "outputs": [],
   "source": [
    "# Save datasets in dictionary\n",
    "data_dict = {}\n",
    "data_dict['train data'] = train_data\n",
    "data_dict['test data']  = test_data;\n",
    "#data_dict['train data'] "
   ]
  },
  {
   "cell_type": "code",
   "execution_count": 5,
   "metadata": {
    "execution": {
     "iopub.execute_input": "2020-09-01T16:51:33.389571Z",
     "iopub.status.busy": "2020-09-01T16:51:33.388675Z",
     "iopub.status.idle": "2020-09-01T16:51:33.393374Z",
     "shell.execute_reply": "2020-09-01T16:51:33.392623Z"
    },
    "papermill": {
     "duration": 0.03258,
     "end_time": "2020-09-01T16:51:33.393493",
     "exception": false,
     "start_time": "2020-09-01T16:51:33.360913",
     "status": "completed"
    },
    "tags": []
   },
   "outputs": [
    {
     "data": {
      "text/plain": [
       "(891, 12)"
      ]
     },
     "execution_count": 5,
     "metadata": {},
     "output_type": "execute_result"
    }
   ],
   "source": [
    "# Shape of train data\n",
    "train_data.shape"
   ]
  },
  {
   "cell_type": "markdown",
   "execution_count": null,
   "metadata": {
    "papermill": {
     "duration": 0.02278,
     "end_time": "2020-09-01T16:51:33.439557",
     "exception": false,
     "start_time": "2020-09-01T16:51:33.416777",
     "status": "completed"
    },
    "tags": []
   },
   "source": [
    "The training data consists of 12 features (= columns) and totally 891 samples. We can also observe that the features have different data types and that there are some missing values (e.g. non-null count is below 891)"
   ]
  },
  {
   "cell_type": "code",
   "execution_count": 6,
   "metadata": {
    "execution": {
     "iopub.execute_input": "2020-09-01T16:51:33.502696Z",
     "iopub.status.busy": "2020-09-01T16:51:33.501906Z",
     "iopub.status.idle": "2020-09-01T16:51:33.505302Z",
     "shell.execute_reply": "2020-09-01T16:51:33.506149Z"
    },
    "papermill": {
     "duration": 0.043594,
     "end_time": "2020-09-01T16:51:33.506363",
     "exception": false,
     "start_time": "2020-09-01T16:51:33.462769",
     "status": "completed"
    },
    "tags": []
   },
   "outputs": [
    {
     "name": "stdout",
     "output_type": "stream",
     "text": [
      "<class 'pandas.core.frame.DataFrame'>\n",
      "RangeIndex: 891 entries, 0 to 890\n",
      "Data columns (total 12 columns):\n",
      " #   Column       Non-Null Count  Dtype  \n",
      "---  ------       --------------  -----  \n",
      " 0   PassengerId  891 non-null    int64  \n",
      " 1   Survived     891 non-null    int64  \n",
      " 2   Pclass       891 non-null    int64  \n",
      " 3   Name         891 non-null    object \n",
      " 4   Sex          891 non-null    object \n",
      " 5   Age          714 non-null    float64\n",
      " 6   SibSp        891 non-null    int64  \n",
      " 7   Parch        891 non-null    int64  \n",
      " 8   Ticket       891 non-null    object \n",
      " 9   Fare         891 non-null    float64\n",
      " 10  Cabin        204 non-null    object \n",
      " 11  Embarked     889 non-null    object \n",
      "dtypes: float64(2), int64(5), object(5)\n",
      "memory usage: 83.7+ KB\n"
     ]
    }
   ],
   "source": [
    "# Basic info train data\n",
    "train_data.info()"
   ]
  },
  {
   "cell_type": "markdown",
   "execution_count": null,
   "metadata": {
    "papermill": {
     "duration": 0.023318,
     "end_time": "2020-09-01T16:51:33.554426",
     "exception": false,
     "start_time": "2020-09-01T16:51:33.531108",
     "status": "completed"
    },
    "tags": []
   },
   "source": [
    "Let's look at the definition of each features and have some quick thoughts on how to use the data in the further process:\n",
    "\n",
    "* **PassengerId**: Unique identification of the passenger. Should be included in the submission file. Not necessary for the ML alogrithm.\n",
    "* **Survived**: Binary variable containing status of survival (key: 0: deceased, 1: survived). Target variable for our prediction model.\n",
    "* **Pclass**: Ticket class (key: 1 = First, 2 = Second, 3 = Third), a proxy for socio-economic status. Integer encoded. The integer values have a natural ordered relationship between each other (corresponding to the ticket classes). A ML algorithm may be able to understand this relationship. Ready to use!\n",
    "* **Name**: Name of the passenger. We can extract the title information and generate another feature for socio-economic status.\n",
    "* **Sex**: Categorical data on the gender of a passenger (i.e. values: male, female). Should be one-hot-encoded for the ML algorithm.\n",
    "* **Age**. Age in years. Can be categorized into different age intervals.\n",
    "* **SibSp**. Number of siblings (brother, sister, stepbrother, stepsister) / Spouses (husband, wife, no mistresses and finances) aboard the Titanic. Gives relationhip between size of family traveled with and survival.\n",
    "* **Parch**. Number of parents (mother, father) / Children (daughter, son, stepdaughter, stepson) aboard the Titanic. Gives relationhip between size of family traveled with and survival.\n",
    "* **Ticket**. Ticket number. Proper use has to be investigated further.\n",
    "* **Fare**. Passenger fare. Another proxy for socio-economic status. Similar to Pclass.\n",
    "* **Cabin**. Cabin number. Seems to have a lot of \"NaNs\". Proper use has to be investigated further.\n",
    "* **Embarked**. Categorical feature describing the port of embarkation (key: C = Cherbourg, Q = Queenstown, S = Southampton). Should be one-hot encoded."
   ]
  },
  {
   "cell_type": "code",
   "execution_count": 7,
   "metadata": {
    "execution": {
     "iopub.execute_input": "2020-09-01T16:51:33.608084Z",
     "iopub.status.busy": "2020-09-01T16:51:33.607210Z",
     "iopub.status.idle": "2020-09-01T16:51:33.611486Z",
     "shell.execute_reply": "2020-09-01T16:51:33.610764Z"
    },
    "papermill": {
     "duration": 0.032865,
     "end_time": "2020-09-01T16:51:33.611603",
     "exception": false,
     "start_time": "2020-09-01T16:51:33.578738",
     "status": "completed"
    },
    "tags": []
   },
   "outputs": [
    {
     "data": {
      "text/plain": [
       "(418, 11)"
      ]
     },
     "execution_count": 7,
     "metadata": {},
     "output_type": "execute_result"
    }
   ],
   "source": [
    "# Shape of test data\n",
    "test_data.shape"
   ]
  },
  {
   "cell_type": "markdown",
   "execution_count": null,
   "metadata": {
    "papermill": {
     "duration": 0.023518,
     "end_time": "2020-09-01T16:51:33.658960",
     "exception": false,
     "start_time": "2020-09-01T16:51:33.635442",
     "status": "completed"
    },
    "tags": []
   },
   "source": [
    "The test data consists of 11 features as the taget varible \"Survived\" is missing from the dataset. In the following we want to train our ML algorithm so that the survival attribute is estimated from the feature input. We have 481 entries and also some missing values."
   ]
  },
  {
   "cell_type": "code",
   "execution_count": 8,
   "metadata": {
    "execution": {
     "iopub.execute_input": "2020-09-01T16:51:33.718457Z",
     "iopub.status.busy": "2020-09-01T16:51:33.717561Z",
     "iopub.status.idle": "2020-09-01T16:51:33.721779Z",
     "shell.execute_reply": "2020-09-01T16:51:33.720836Z"
    },
    "papermill": {
     "duration": 0.039167,
     "end_time": "2020-09-01T16:51:33.721929",
     "exception": false,
     "start_time": "2020-09-01T16:51:33.682762",
     "status": "completed"
    },
    "tags": []
   },
   "outputs": [
    {
     "name": "stdout",
     "output_type": "stream",
     "text": [
      "<class 'pandas.core.frame.DataFrame'>\n",
      "RangeIndex: 418 entries, 0 to 417\n",
      "Data columns (total 11 columns):\n",
      " #   Column       Non-Null Count  Dtype  \n",
      "---  ------       --------------  -----  \n",
      " 0   PassengerId  418 non-null    int64  \n",
      " 1   Pclass       418 non-null    int64  \n",
      " 2   Name         418 non-null    object \n",
      " 3   Sex          418 non-null    object \n",
      " 4   Age          332 non-null    float64\n",
      " 5   SibSp        418 non-null    int64  \n",
      " 6   Parch        418 non-null    int64  \n",
      " 7   Ticket       418 non-null    object \n",
      " 8   Fare         417 non-null    float64\n",
      " 9   Cabin        91 non-null     object \n",
      " 10  Embarked     418 non-null    object \n",
      "dtypes: float64(2), int64(4), object(5)\n",
      "memory usage: 36.0+ KB\n"
     ]
    }
   ],
   "source": [
    "# Basic info train data\n",
    "test_data.info()"
   ]
  },
  {
   "cell_type": "markdown",
   "execution_count": null,
   "metadata": {
    "papermill": {
     "duration": 0.023473,
     "end_time": "2020-09-01T16:51:33.769922",
     "exception": false,
     "start_time": "2020-09-01T16:51:33.746449",
     "status": "completed"
    },
    "tags": []
   },
   "source": [
    "# **Analyse the data**"
   ]
  },
  {
   "cell_type": "markdown",
   "execution_count": null,
   "metadata": {
    "papermill": {
     "duration": 0.023464,
     "end_time": "2020-09-01T16:51:33.816989",
     "exception": false,
     "start_time": "2020-09-01T16:51:33.793525",
     "status": "completed"
    },
    "tags": []
   },
   "source": [
    "**Correlation of numerical values**\n",
    "<br>\n",
    "A heatmap is a quick method to get started with the data analysis. It shows us the correlation between the numerical values."
   ]
  },
  {
   "cell_type": "code",
   "execution_count": 9,
   "metadata": {
    "execution": {
     "iopub.execute_input": "2020-09-01T16:51:33.877704Z",
     "iopub.status.busy": "2020-09-01T16:51:33.875594Z",
     "iopub.status.idle": "2020-09-01T16:51:34.217399Z",
     "shell.execute_reply": "2020-09-01T16:51:34.216668Z"
    },
    "papermill": {
     "duration": 0.376899,
     "end_time": "2020-09-01T16:51:34.217522",
     "exception": false,
     "start_time": "2020-09-01T16:51:33.840623",
     "status": "completed"
    },
    "tags": []
   },
   "outputs": [
    {
     "data": {
      "image/png": "[encoded data removed]",
      "text/plain": [
       "<Figure size 432x288 with 2 Axes>"
      ]
     },
     "metadata": {
      "needs_background": "light"
     },
     "output_type": "display_data"
    }
   ],
   "source": [
    "# Create heatmao from numerical features of train data\n",
    "corr_numeric = sns.heatmap(train_data[[\"Survived\",\"SibSp\",\"Parch\",\"Age\",\"Fare\"]].corr(),\n",
    "                           annot=True, fmt = \".2f\", cmap = \"coolwarm\", linewidths=5)"
   ]
  },
  {
   "cell_type": "markdown",
   "execution_count": null,
   "metadata": {
    "papermill": {
     "duration": 0.023821,
     "end_time": "2020-09-01T16:51:34.265833",
     "exception": false,
     "start_time": "2020-09-01T16:51:34.242012",
     "status": "completed"
    },
    "tags": []
   },
   "source": [
    "**Key takeaway**: The correlation of the numerical features with the target variable **'Survived'** is generally not too high (**highest absolute value: Fare-Survived: 0.26**). Nevertheless, all the features might be helpful in some way for prediction since there is a correlation.\n",
    "<br>\n",
    "<br>\n",
    "Let's dive deeper into the data. The Pandas data frame provides some useful methods to quicky generate some insights from the data. We define a function to compare the data:"
   ]
  },
  {
   "cell_type": "code",
   "execution_count": 10,
   "metadata": {
    "execution": {
     "iopub.execute_input": "2020-09-01T16:51:34.324565Z",
     "iopub.status.busy": "2020-09-01T16:51:34.323855Z",
     "iopub.status.idle": "2020-09-01T16:51:34.327191Z",
     "shell.execute_reply": "2020-09-01T16:51:34.326450Z"
    },
    "papermill": {
     "duration": 0.037497,
     "end_time": "2020-09-01T16:51:34.327308",
     "exception": false,
     "start_time": "2020-09-01T16:51:34.289811",
     "status": "completed"
    },
    "tags": []
   },
   "outputs": [],
   "source": [
    "## From https://www.kaggle.com/kpacocha/top-5-titanic-machine-learning-from-disaster\n",
    "    \n",
    "def compare_features(data,var_1, var_2):\n",
    "    return data[[var_1, var_2]][data[var_2].isnull()==False].groupby([var_1], \n",
    "                 as_index=False).mean().sort_values(by=var_2, ascending=False)\n",
    "    \n",
    "def plot(data,var_1, var_2):\n",
    "    graph = sns.FacetGrid(data, col=var_2).map(sns.distplot, var_1)\n",
    "    \n",
    "def counting_values(data, var_1, var_2):\n",
    "    return data[[var_1, var_2]][data[var_2].isnull()==False].groupby([var_1], \n",
    "           as_index=False)"
   ]
  },
  {
   "cell_type": "markdown",
   "execution_count": null,
   "metadata": {
    "papermill": {
     "duration": 0.025699,
     "end_time": "2020-09-01T16:51:34.380644",
     "exception": false,
     "start_time": "2020-09-01T16:51:34.354945",
     "status": "completed"
    },
    "tags": []
   },
   "source": [
    "**Correlation between Survival, Sex and Passenger Class**:\n",
    "<br>\n",
    "From historic records we know that the suvrival rate among men was much lower than among women. Below we can seee that the data set confirms this assertion: 78% of all women survived, whereas only 19% of men did."
   ]
  },
  {
   "cell_type": "code",
   "execution_count": 11,
   "metadata": {
    "execution": {
     "iopub.execute_input": "2020-09-01T16:51:34.436947Z",
     "iopub.status.busy": "2020-09-01T16:51:34.435813Z",
     "iopub.status.idle": "2020-09-01T16:51:34.452461Z",
     "shell.execute_reply": "2020-09-01T16:51:34.452988Z"
    },
    "papermill": {
     "duration": 0.048326,
     "end_time": "2020-09-01T16:51:34.453175",
     "exception": false,
     "start_time": "2020-09-01T16:51:34.404849",
     "status": "completed"
    },
    "tags": []
   },
   "outputs": [
    {
     "data": {
      "text/html": [
       "<div>\n",
       "<style scoped>\n",
       "    .dataframe tbody tr th:only-of-type {\n",
       "        vertical-align: middle;\n",
       "    }\n",
       "\n",
       "    .dataframe tbody tr th {\n",
       "        vertical-align: top;\n",
       "    }\n",
       "\n",
       "    .dataframe thead th {\n",
       "        text-align: right;\n",
       "    }\n",
       "</style>\n",
       "<table border=\"1\" class=\"dataframe\">\n",
       "  <thead>\n",
       "    <tr style=\"text-align: right;\">\n",
       "      <th></th>\n",
       "      <th>Sex</th>\n",
       "      <th>Survived</th>\n",
       "    </tr>\n",
       "  </thead>\n",
       "  <tbody>\n",
       "    <tr>\n",
       "      <th>0</th>\n",
       "      <td>female</td>\n",
       "      <td>0.742038</td>\n",
       "    </tr>\n",
       "    <tr>\n",
       "      <th>1</th>\n",
       "      <td>male</td>\n",
       "      <td>0.188908</td>\n",
       "    </tr>\n",
       "  </tbody>\n",
       "</table>\n",
       "</div>"
      ],
      "text/plain": [
       "      Sex  Survived\n",
       "0  female  0.742038\n",
       "1    male  0.188908"
      ]
     },
     "execution_count": 11,
     "metadata": {},
     "output_type": "execute_result"
    }
   ],
   "source": [
    "compare_features(train_data, 'Sex','Survived')"
   ]
  },
  {
   "cell_type": "markdown",
   "execution_count": null,
   "metadata": {
    "papermill": {
     "duration": 0.024538,
     "end_time": "2020-09-01T16:51:34.502512",
     "exception": false,
     "start_time": "2020-09-01T16:51:34.477974",
     "status": "completed"
    },
    "tags": []
   },
   "source": [
    "As expected, the chances of survival where the highest in the First Class, where almost 2/3 survived - which is almost 3 times as high as in the Third Class. The passengers of the First Class where more likely to get a seat in a lifeboat, since they were the first to be evacuated and their cabins were located close to the lifeboats."
   ]
  },
  {
   "cell_type": "code",
   "execution_count": 12,
   "metadata": {
    "execution": {
     "iopub.execute_input": "2020-09-01T16:51:34.560102Z",
     "iopub.status.busy": "2020-09-01T16:51:34.559189Z",
     "iopub.status.idle": "2020-09-01T16:51:34.573178Z",
     "shell.execute_reply": "2020-09-01T16:51:34.572550Z"
    },
    "papermill": {
     "duration": 0.045684,
     "end_time": "2020-09-01T16:51:34.573305",
     "exception": false,
     "start_time": "2020-09-01T16:51:34.527621",
     "status": "completed"
    },
    "tags": []
   },
   "outputs": [
    {
     "data": {
      "text/html": [
       "<div>\n",
       "<style scoped>\n",
       "    .dataframe tbody tr th:only-of-type {\n",
       "        vertical-align: middle;\n",
       "    }\n",
       "\n",
       "    .dataframe tbody tr th {\n",
       "        vertical-align: top;\n",
       "    }\n",
       "\n",
       "    .dataframe thead th {\n",
       "        text-align: right;\n",
       "    }\n",
       "</style>\n",
       "<table border=\"1\" class=\"dataframe\">\n",
       "  <thead>\n",
       "    <tr style=\"text-align: right;\">\n",
       "      <th></th>\n",
       "      <th>Pclass</th>\n",
       "      <th>Survived</th>\n",
       "    </tr>\n",
       "  </thead>\n",
       "  <tbody>\n",
       "    <tr>\n",
       "      <th>0</th>\n",
       "      <td>1</td>\n",
       "      <td>0.629630</td>\n",
       "    </tr>\n",
       "    <tr>\n",
       "      <th>1</th>\n",
       "      <td>2</td>\n",
       "      <td>0.472826</td>\n",
       "    </tr>\n",
       "    <tr>\n",
       "      <th>2</th>\n",
       "      <td>3</td>\n",
       "      <td>0.242363</td>\n",
       "    </tr>\n",
       "  </tbody>\n",
       "</table>\n",
       "</div>"
      ],
      "text/plain": [
       "   Pclass  Survived\n",
       "0       1  0.629630\n",
       "1       2  0.472826\n",
       "2       3  0.242363"
      ]
     },
     "execution_count": 12,
     "metadata": {},
     "output_type": "execute_result"
    }
   ],
   "source": [
    "compare_features(train_data, 'Pclass','Survived')"
   ]
  },
  {
   "cell_type": "markdown",
   "execution_count": null,
   "metadata": {
    "papermill": {
     "duration": 0.024758,
     "end_time": "2020-09-01T16:51:34.623147",
     "exception": false,
     "start_time": "2020-09-01T16:51:34.598389",
     "status": "completed"
    },
    "tags": []
   },
   "source": [
    "In order to to examine the correlation between the target variable and the other two variables at the same time (i.e. how survival rate was affected by 'Pclass 'and 'Sex') we can use a 'Pointplot'."
   ]
  },
  {
   "cell_type": "code",
   "execution_count": 13,
   "metadata": {
    "execution": {
     "iopub.execute_input": "2020-09-01T16:51:34.687497Z",
     "iopub.status.busy": "2020-09-01T16:51:34.686326Z",
     "iopub.status.idle": "2020-09-01T16:51:35.110771Z",
     "shell.execute_reply": "2020-09-01T16:51:35.109994Z"
    },
    "papermill": {
     "duration": 0.462462,
     "end_time": "2020-09-01T16:51:35.110895",
     "exception": false,
     "start_time": "2020-09-01T16:51:34.648433",
     "status": "completed"
    },
    "tags": []
   },
   "outputs": [
    {
     "data": {
      "image/png": "[encoded data removed]",
      "text/plain": [
       "<Figure size 432x288 with 1 Axes>"
      ]
     },
     "metadata": {
      "needs_background": "light"
     },
     "output_type": "display_data"
    }
   ],
   "source": [
    "# Create Pointplot with Pclass, Survived, Sex:\n",
    "ax = sns.pointplot(x=\"Pclass\", y=\"Survived\", hue=\"Sex\",\n",
    "                   data=train_data, size=5,\n",
    "                   markers=[\"o\", \"o\"], # Define marker shape\n",
    "                   linestyles=[\"--\", \"--\"], # Define linestyle\n",
    "                   palette={\"male\": \"#34495e\", \"female\": \"#3498db\"}, # Custom 2- value color palette\n",
    "                   )\n",
    "\n",
    "ax = plt.gca() # Get current axis (gca)\n",
    "\n",
    "# Insert grid\n",
    "plt.grid(True, alpha=0.5)\n",
    "\n",
    "# Remove top and left spines:\n",
    "ax.spines['right'].set_visible(False)\n",
    "ax.spines['top'].set_visible(False)\n",
    "\n",
    "# Name axis\n",
    "plt.ylabel(\"Survival rate\", fontsize=12)\n",
    "plt.xlabel(\"Passenger class\", fontsize=12);"
   ]
  },
  {
   "cell_type": "markdown",
   "execution_count": null,
   "metadata": {
    "papermill": {
     "duration": 0.025143,
     "end_time": "2020-09-01T16:51:35.161758",
     "exception": false,
     "start_time": "2020-09-01T16:51:35.136615",
     "status": "completed"
    },
    "tags": []
   },
   "source": [
    "From the plot above we can see that the survival rates of women were in all passenger classes much higher than these of men. We also observe how the survival rate is declining from First to Third Class within men and women.\n",
    "<br>\n",
    "<br>\n",
    "**Key takeaways:**\n",
    "* Still, a woman in the Third Class was more likely to survive (ca. 50%) than a man in the First Class (ca. 35%). \n",
    "* Chances of survival were cut in the half for men in the Second Class compared to men in the First Class. \n",
    "* For women the survival rates between First and Second Class where almost identical (First: ca. 95%, Second: ca. 90%) and only declined sharply between Second and Third Class (ca. 50%)."
   ]
  },
  {
   "cell_type": "markdown",
   "execution_count": null,
   "metadata": {
    "papermill": {
     "duration": 0.025465,
     "end_time": "2020-09-01T16:51:35.212815",
     "exception": false,
     "start_time": "2020-09-01T16:51:35.187350",
     "status": "completed"
    },
    "tags": []
   },
   "source": [
    "**What about the 'Age' factor?**\n",
    "<br>\n",
    "Now, let us have a look at the age distribution across the passenger classes and the correlated mean age.\n"
   ]
  },
  {
   "cell_type": "code",
   "execution_count": 14,
   "metadata": {
    "execution": {
     "iopub.execute_input": "2020-09-01T16:51:35.278614Z",
     "iopub.status.busy": "2020-09-01T16:51:35.275964Z",
     "iopub.status.idle": "2020-09-01T16:51:35.282537Z",
     "shell.execute_reply": "2020-09-01T16:51:35.283092Z"
    },
    "papermill": {
     "duration": 0.045363,
     "end_time": "2020-09-01T16:51:35.283250",
     "exception": false,
     "start_time": "2020-09-01T16:51:35.237887",
     "status": "completed"
    },
    "tags": []
   },
   "outputs": [
    {
     "data": {
      "text/html": [
       "<div>\n",
       "<style scoped>\n",
       "    .dataframe tbody tr th:only-of-type {\n",
       "        vertical-align: middle;\n",
       "    }\n",
       "\n",
       "    .dataframe tbody tr th {\n",
       "        vertical-align: top;\n",
       "    }\n",
       "\n",
       "    .dataframe thead th {\n",
       "        text-align: right;\n",
       "    }\n",
       "</style>\n",
       "<table border=\"1\" class=\"dataframe\">\n",
       "  <thead>\n",
       "    <tr style=\"text-align: right;\">\n",
       "      <th></th>\n",
       "      <th>Pclass</th>\n",
       "      <th>Age</th>\n",
       "    </tr>\n",
       "  </thead>\n",
       "  <tbody>\n",
       "    <tr>\n",
       "      <th>0</th>\n",
       "      <td>1</td>\n",
       "      <td>38.233441</td>\n",
       "    </tr>\n",
       "    <tr>\n",
       "      <th>1</th>\n",
       "      <td>2</td>\n",
       "      <td>29.877630</td>\n",
       "    </tr>\n",
       "    <tr>\n",
       "      <th>2</th>\n",
       "      <td>3</td>\n",
       "      <td>25.140620</td>\n",
       "    </tr>\n",
       "  </tbody>\n",
       "</table>\n",
       "</div>"
      ],
      "text/plain": [
       "   Pclass        Age\n",
       "0       1  38.233441\n",
       "1       2  29.877630\n",
       "2       3  25.140620"
      ]
     },
     "execution_count": 14,
     "metadata": {},
     "output_type": "execute_result"
    }
   ],
   "source": [
    "# Get table with mean age by passenger class\n",
    "compare_features(train_data, 'Pclass','Age')"
   ]
  },
  {
   "cell_type": "code",
   "execution_count": 15,
   "metadata": {
    "execution": {
     "iopub.execute_input": "2020-09-01T16:51:35.347767Z",
     "iopub.status.busy": "2020-09-01T16:51:35.342560Z",
     "iopub.status.idle": "2020-09-01T16:51:35.647961Z",
     "shell.execute_reply": "2020-09-01T16:51:35.647386Z"
    },
    "papermill": {
     "duration": 0.339572,
     "end_time": "2020-09-01T16:51:35.648118",
     "exception": false,
     "start_time": "2020-09-01T16:51:35.308546",
     "status": "completed"
    },
    "tags": []
   },
   "outputs": [
    {
     "data": {
      "image/png": "[encoded data removed]",
      "text/plain": [
       "<Figure size 360x360 with 1 Axes>"
      ]
     },
     "metadata": {
      "needs_background": "light"
     },
     "output_type": "display_data"
    }
   ],
   "source": [
    "# Using boxplot for age and Pclass\n",
    "sns.factorplot(data = train_data , x = 'Pclass' , y = 'Age', \n",
    "               kind = 'box',  palette={1: \"#34495e\", 2: \"#3498db\", 3: \"r\"});"
   ]
  },
  {
   "cell_type": "code",
   "execution_count": 16,
   "metadata": {
    "execution": {
     "iopub.execute_input": "2020-09-01T16:51:35.716725Z",
     "iopub.status.busy": "2020-09-01T16:51:35.713867Z",
     "iopub.status.idle": "2020-09-01T16:51:36.039051Z",
     "shell.execute_reply": "2020-09-01T16:51:36.038332Z"
    },
    "papermill": {
     "duration": 0.365329,
     "end_time": "2020-09-01T16:51:36.039171",
     "exception": false,
     "start_time": "2020-09-01T16:51:35.673842",
     "status": "completed"
    },
    "tags": []
   },
   "outputs": [
    {
     "data": {
      "image/png": "[encoded data removed]",
      "text/plain": [
       "<Figure size 618.375x144 with 1 Axes>"
      ]
     },
     "metadata": {
      "needs_background": "light"
     },
     "output_type": "display_data"
    }
   ],
   "source": [
    "# Plot age distribution for all three passenger classes\n",
    "g = sns.FacetGrid(train_data, hue=\"Pclass\", size = 2, aspect=4,\n",
    "                  palette={1: \"#34495e\", 2: \"#3498db\", 3: \"r\"})\n",
    "\n",
    "g.map(sns.kdeplot,'Age',shade= True)\n",
    "g.set(xlim=(0, train_data['Age'].max())) # Set limit to x-axis\n",
    "g.add_legend()\n",
    "plt.show()"
   ]
  },
  {
   "cell_type": "markdown",
   "execution_count": null,
   "metadata": {
    "papermill": {
     "duration": 0.025477,
     "end_time": "2020-09-01T16:51:36.090746",
     "exception": false,
     "start_time": "2020-09-01T16:51:36.065269",
     "status": "completed"
    },
    "tags": []
   },
   "source": [
    "**Key takeaways:**\n",
    "* Most of the young people were in the Third Class. \n",
    "* The age distribution of the Second Class peaks at an older age and also has more passengers with an age between 50 and 60. \n",
    "* The First Class has a less narrow peak, i.e. forms a plateau across a much wider age span, especially in the older cohort. \n",
    "* These observations are also reflected by the mean age which is decreasing from First class (38) to Third class (25)."
   ]
  },
  {
   "cell_type": "markdown",
   "execution_count": null,
   "metadata": {
    "papermill": {
     "duration": 0.025882,
     "end_time": "2020-09-01T16:51:36.142357",
     "exception": false,
     "start_time": "2020-09-01T16:51:36.116475",
     "status": "completed"
    },
    "tags": []
   },
   "source": [
    "Now let's add the feature 'Age' as an additional dimension to our existing observation. The Seaborn class 'FacetGrid' offers a quick way of mapping multiple variables of a dataset to a grid of plots with subsets of data."
   ]
  },
  {
   "cell_type": "code",
   "execution_count": 17,
   "metadata": {
    "execution": {
     "iopub.execute_input": "2020-09-01T16:51:36.210502Z",
     "iopub.status.busy": "2020-09-01T16:51:36.208420Z",
     "iopub.status.idle": "2020-09-01T16:51:38.448993Z",
     "shell.execute_reply": "2020-09-01T16:51:38.449596Z"
    },
    "papermill": {
     "duration": 2.28179,
     "end_time": "2020-09-01T16:51:38.449757",
     "exception": false,
     "start_time": "2020-09-01T16:51:36.167967",
     "status": "completed"
    },
    "tags": []
   },
   "outputs": [
    {
     "data": {
      "image/png": "[encoded data removed]",
      "text/plain": [
       "<Figure size 675.3x504 with 6 Axes>"
      ]
     },
     "metadata": {
      "needs_background": "light"
     },
     "output_type": "display_data"
    }
   ],
   "source": [
    "# Histogram comparison of sex, class, and age by survival\n",
    "h = sns.FacetGrid(train_data, row = 'Survived', col = 'Pclass', hue = 'Sex', \n",
    "                  palette={\"male\": \"#34495e\", \"female\": \"#3498db\"},\n",
    "                  size=3.5, aspect=0.8,\n",
    "                  margin_titles=True);\n",
    "\n",
    "h.map(plt.hist, 'Age', alpha = 0.75);\n",
    "\n",
    "# Interate through axes\n",
    "for ax in h.axes.flat:\n",
    "\n",
    "    # Make right ylabel more human-readable and larger\n",
    "    # Only the 2nd and 4th axes have something in ax.texts\n",
    "    if ax.texts:\n",
    "       \n",
    "        txt = ax.texts[0] # Get existing right ylabel text\n",
    "        survived = int(txt.get_text().split('=')[1]) # Extract survival info from text\n",
    "        \n",
    "        # Define new right ylabel text\n",
    "        if survived == 0:\n",
    "            text_new = 'Perished'\n",
    "            \n",
    "        elif survived == 1:\n",
    "            text_new = 'Survived'\n",
    "            \n",
    "        # Set and format new right ylabel text \n",
    "        ax.text(txt.get_unitless_position()[0], txt.get_unitless_position()[1],\n",
    "                text_new,\n",
    "                transform=ax.transAxes,\n",
    "                va='center',\n",
    "                rotation=-90,\n",
    "                fontsize=12)\n",
    "        \n",
    "        # Remove the original text\n",
    "        ax.texts[0].remove()\n",
    "        \n",
    "    ax.set_xlabel(None) # Remove label from x-axis\n",
    "    \n",
    "# Add new labels (only y-axis top left and x-axis bottol right)\n",
    "h.axes[0,0].set_ylabel('Number of cases', fontsize=12);\n",
    "h.axes[1,2].set_xlabel('Age', fontsize=12);\n",
    "\n",
    "# Add legend\n",
    "h.add_legend();"
   ]
  },
  {
   "cell_type": "markdown",
   "execution_count": null,
   "metadata": {
    "papermill": {
     "duration": 0.025798,
     "end_time": "2020-09-01T16:51:38.502393",
     "exception": false,
     "start_time": "2020-09-01T16:51:38.476595",
     "status": "completed"
    },
    "tags": []
   },
   "source": [
    "\n",
    "**key takeaways**:\n",
    "* Most of the male passengers died throughout all classes, sharply increasing with the class\n",
    "* Most of the female passengers survived throughout class 1 and 2 - in class 3 still half of them survived\n",
    "* The Third class had the highest amount of passengers of all classes, which were mostly men (this means also the highest absolut number of men)\n",
    "* The age distribution tends to be inclined towards a younger age group with increasing class value\n"
   ]
  },
  {
   "cell_type": "markdown",
   "execution_count": null,
   "metadata": {
    "papermill": {
     "duration": 0.065909,
     "end_time": "2020-09-01T16:51:38.594289",
     "exception": false,
     "start_time": "2020-09-01T16:51:38.528380",
     "status": "completed"
    },
    "tags": []
   },
   "source": [
    "**Fare**\n",
    "<br>\n",
    "We expect that higher fare correlates with a higher passenger class and a higher rate of survival."
   ]
  },
  {
   "cell_type": "code",
   "execution_count": 18,
   "metadata": {
    "execution": {
     "iopub.execute_input": "2020-09-01T16:51:38.665080Z",
     "iopub.status.busy": "2020-09-01T16:51:38.663546Z",
     "iopub.status.idle": "2020-09-01T16:51:40.939725Z",
     "shell.execute_reply": "2020-09-01T16:51:40.938987Z"
    },
    "papermill": {
     "duration": 2.319393,
     "end_time": "2020-09-01T16:51:40.939843",
     "exception": false,
     "start_time": "2020-09-01T16:51:38.620450",
     "status": "completed"
    },
    "tags": []
   },
   "outputs": [
    {
     "data": {
      "image/png": "[encoded data removed]",
      "text/plain": [
       "<Figure size 432x324 with 3 Axes>"
      ]
     },
     "metadata": {
      "needs_background": "light"
     },
     "output_type": "display_data"
    }
   ],
   "source": [
    "# Create boxplot for passenger class and fare\n",
    "g = sns.catplot(x=\"Fare\", y=\"Survived\", row=\"Pclass\",\n",
    "                kind=\"box\", orient=\"h\", height=1.5, aspect=4,\n",
    "                data=train_data,\n",
    "                palette={0: \"#34495e\", 1: \"#3498db\"})\n",
    "g.set(xscale=\"log\");"
   ]
  },
  {
   "cell_type": "markdown",
   "execution_count": null,
   "metadata": {
    "papermill": {
     "duration": 0.026564,
     "end_time": "2020-09-01T16:51:40.993351",
     "exception": false,
     "start_time": "2020-09-01T16:51:40.966787",
     "status": "completed"
    },
    "tags": []
   },
   "source": [
    "We see that the median fare is increasing with the passenger class. We also observe that throughout all passenger classes the median fare is higher for the people who survived."
   ]
  },
  {
   "cell_type": "markdown",
   "execution_count": null,
   "metadata": {
    "papermill": {
     "duration": 0.026451,
     "end_time": "2020-09-01T16:51:41.046726",
     "exception": false,
     "start_time": "2020-09-01T16:51:41.020275",
     "status": "completed"
    },
    "tags": []
   },
   "source": [
    "**Onboard family relations**"
   ]
  },
  {
   "cell_type": "code",
   "execution_count": 19,
   "metadata": {
    "execution": {
     "iopub.execute_input": "2020-09-01T16:51:41.110037Z",
     "iopub.status.busy": "2020-09-01T16:51:41.108926Z",
     "iopub.status.idle": "2020-09-01T16:51:41.121307Z",
     "shell.execute_reply": "2020-09-01T16:51:41.120709Z"
    },
    "papermill": {
     "duration": 0.04784,
     "end_time": "2020-09-01T16:51:41.121461",
     "exception": false,
     "start_time": "2020-09-01T16:51:41.073621",
     "status": "completed"
    },
    "tags": []
   },
   "outputs": [
    {
     "data": {
      "text/html": [
       "<div>\n",
       "<style scoped>\n",
       "    .dataframe tbody tr th:only-of-type {\n",
       "        vertical-align: middle;\n",
       "    }\n",
       "\n",
       "    .dataframe tbody tr th {\n",
       "        vertical-align: top;\n",
       "    }\n",
       "\n",
       "    .dataframe thead th {\n",
       "        text-align: right;\n",
       "    }\n",
       "</style>\n",
       "<table border=\"1\" class=\"dataframe\">\n",
       "  <thead>\n",
       "    <tr style=\"text-align: right;\">\n",
       "      <th></th>\n",
       "      <th>SibSp</th>\n",
       "      <th>Survived</th>\n",
       "    </tr>\n",
       "  </thead>\n",
       "  <tbody>\n",
       "    <tr>\n",
       "      <th>1</th>\n",
       "      <td>1</td>\n",
       "      <td>0.535885</td>\n",
       "    </tr>\n",
       "    <tr>\n",
       "      <th>2</th>\n",
       "      <td>2</td>\n",
       "      <td>0.464286</td>\n",
       "    </tr>\n",
       "    <tr>\n",
       "      <th>0</th>\n",
       "      <td>0</td>\n",
       "      <td>0.345395</td>\n",
       "    </tr>\n",
       "    <tr>\n",
       "      <th>3</th>\n",
       "      <td>3</td>\n",
       "      <td>0.250000</td>\n",
       "    </tr>\n",
       "    <tr>\n",
       "      <th>4</th>\n",
       "      <td>4</td>\n",
       "      <td>0.166667</td>\n",
       "    </tr>\n",
       "    <tr>\n",
       "      <th>5</th>\n",
       "      <td>5</td>\n",
       "      <td>0.000000</td>\n",
       "    </tr>\n",
       "    <tr>\n",
       "      <th>6</th>\n",
       "      <td>8</td>\n",
       "      <td>0.000000</td>\n",
       "    </tr>\n",
       "  </tbody>\n",
       "</table>\n",
       "</div>"
      ],
      "text/plain": [
       "   SibSp  Survived\n",
       "1      1  0.535885\n",
       "2      2  0.464286\n",
       "0      0  0.345395\n",
       "3      3  0.250000\n",
       "4      4  0.166667\n",
       "5      5  0.000000\n",
       "6      8  0.000000"
      ]
     },
     "execution_count": 19,
     "metadata": {},
     "output_type": "execute_result"
    }
   ],
   "source": [
    "compare_features(train_data, 'SibSp', 'Survived')"
   ]
  },
  {
   "cell_type": "code",
   "execution_count": 20,
   "metadata": {
    "execution": {
     "iopub.execute_input": "2020-09-01T16:51:41.192868Z",
     "iopub.status.busy": "2020-09-01T16:51:41.191882Z",
     "iopub.status.idle": "2020-09-01T16:51:41.196791Z",
     "shell.execute_reply": "2020-09-01T16:51:41.196193Z"
    },
    "papermill": {
     "duration": 0.048267,
     "end_time": "2020-09-01T16:51:41.196920",
     "exception": false,
     "start_time": "2020-09-01T16:51:41.148653",
     "status": "completed"
    },
    "tags": []
   },
   "outputs": [
    {
     "data": {
      "text/html": [
       "<div>\n",
       "<style scoped>\n",
       "    .dataframe tbody tr th:only-of-type {\n",
       "        vertical-align: middle;\n",
       "    }\n",
       "\n",
       "    .dataframe tbody tr th {\n",
       "        vertical-align: top;\n",
       "    }\n",
       "\n",
       "    .dataframe thead th {\n",
       "        text-align: right;\n",
       "    }\n",
       "</style>\n",
       "<table border=\"1\" class=\"dataframe\">\n",
       "  <thead>\n",
       "    <tr style=\"text-align: right;\">\n",
       "      <th></th>\n",
       "      <th>Parch</th>\n",
       "      <th>Survived</th>\n",
       "    </tr>\n",
       "  </thead>\n",
       "  <tbody>\n",
       "    <tr>\n",
       "      <th>3</th>\n",
       "      <td>3</td>\n",
       "      <td>0.600000</td>\n",
       "    </tr>\n",
       "    <tr>\n",
       "      <th>1</th>\n",
       "      <td>1</td>\n",
       "      <td>0.550847</td>\n",
       "    </tr>\n",
       "    <tr>\n",
       "      <th>2</th>\n",
       "      <td>2</td>\n",
       "      <td>0.500000</td>\n",
       "    </tr>\n",
       "    <tr>\n",
       "      <th>0</th>\n",
       "      <td>0</td>\n",
       "      <td>0.343658</td>\n",
       "    </tr>\n",
       "    <tr>\n",
       "      <th>5</th>\n",
       "      <td>5</td>\n",
       "      <td>0.200000</td>\n",
       "    </tr>\n",
       "    <tr>\n",
       "      <th>4</th>\n",
       "      <td>4</td>\n",
       "      <td>0.000000</td>\n",
       "    </tr>\n",
       "    <tr>\n",
       "      <th>6</th>\n",
       "      <td>6</td>\n",
       "      <td>0.000000</td>\n",
       "    </tr>\n",
       "  </tbody>\n",
       "</table>\n",
       "</div>"
      ],
      "text/plain": [
       "   Parch  Survived\n",
       "3      3  0.600000\n",
       "1      1  0.550847\n",
       "2      2  0.500000\n",
       "0      0  0.343658\n",
       "5      5  0.200000\n",
       "4      4  0.000000\n",
       "6      6  0.000000"
      ]
     },
     "execution_count": 20,
     "metadata": {},
     "output_type": "execute_result"
    }
   ],
   "source": [
    "compare_features(train_data, 'Parch', 'Survived')"
   ]
  },
  {
   "cell_type": "markdown",
   "execution_count": null,
   "metadata": {
    "papermill": {
     "duration": 0.026717,
     "end_time": "2020-09-01T16:51:41.250818",
     "exception": false,
     "start_time": "2020-09-01T16:51:41.224101",
     "status": "completed"
    },
    "tags": []
   },
   "source": [
    "key takeaways:\n",
    "* Highest chances of survial had passengers with 1 and 2 siblings/spouses onboard the Titanic, followed by people who traveled alone (I assume that higher numbers correlate with higher logistical efforts in finding and rescuing family members and therefore higher chances of dying)\n",
    "* For 'Parch' (number of children, parents onboard) the obersvation is consistent with the statement above: Smaler families had higher chances of survival ('Parch' 1, 2, 3)."
   ]
  },
  {
   "cell_type": "markdown",
   "execution_count": null,
   "metadata": {
    "papermill": {
     "duration": 0.026789,
     "end_time": "2020-09-01T16:51:41.304877",
     "exception": false,
     "start_time": "2020-09-01T16:51:41.278088",
     "status": "completed"
    },
    "tags": []
   },
   "source": [
    "**Embarked**\n",
    "<br>\n",
    "Port of Embarkation , C = Cherbourg, Q = Queenstown, S = Southampton. "
   ]
  },
  {
   "cell_type": "code",
   "execution_count": 21,
   "metadata": {
    "execution": {
     "iopub.execute_input": "2020-09-01T16:51:41.369379Z",
     "iopub.status.busy": "2020-09-01T16:51:41.366094Z",
     "iopub.status.idle": "2020-09-01T16:51:41.381314Z",
     "shell.execute_reply": "2020-09-01T16:51:41.380690Z"
    },
    "papermill": {
     "duration": 0.049443,
     "end_time": "2020-09-01T16:51:41.381437",
     "exception": false,
     "start_time": "2020-09-01T16:51:41.331994",
     "status": "completed"
    },
    "tags": []
   },
   "outputs": [
    {
     "data": {
      "text/html": [
       "<div>\n",
       "<style scoped>\n",
       "    .dataframe tbody tr th:only-of-type {\n",
       "        vertical-align: middle;\n",
       "    }\n",
       "\n",
       "    .dataframe tbody tr th {\n",
       "        vertical-align: top;\n",
       "    }\n",
       "\n",
       "    .dataframe thead th {\n",
       "        text-align: right;\n",
       "    }\n",
       "</style>\n",
       "<table border=\"1\" class=\"dataframe\">\n",
       "  <thead>\n",
       "    <tr style=\"text-align: right;\">\n",
       "      <th></th>\n",
       "      <th>Embarked</th>\n",
       "      <th>Survived</th>\n",
       "    </tr>\n",
       "  </thead>\n",
       "  <tbody>\n",
       "    <tr>\n",
       "      <th>0</th>\n",
       "      <td>C</td>\n",
       "      <td>0.553571</td>\n",
       "    </tr>\n",
       "    <tr>\n",
       "      <th>1</th>\n",
       "      <td>Q</td>\n",
       "      <td>0.389610</td>\n",
       "    </tr>\n",
       "    <tr>\n",
       "      <th>2</th>\n",
       "      <td>S</td>\n",
       "      <td>0.336957</td>\n",
       "    </tr>\n",
       "  </tbody>\n",
       "</table>\n",
       "</div>"
      ],
      "text/plain": [
       "  Embarked  Survived\n",
       "0        C  0.553571\n",
       "1        Q  0.389610\n",
       "2        S  0.336957"
      ]
     },
     "execution_count": 21,
     "metadata": {},
     "output_type": "execute_result"
    }
   ],
   "source": [
    "compare_features(train_data, 'Embarked', 'Survived')"
   ]
  },
  {
   "cell_type": "markdown",
   "execution_count": null,
   "metadata": {
    "papermill": {
     "duration": 0.026978,
     "end_time": "2020-09-01T16:51:41.435698",
     "exception": false,
     "start_time": "2020-09-01T16:51:41.408720",
     "status": "completed"
    },
    "tags": []
   },
   "source": [
    "Looks like people from Cherbourgh had a higher chance of survival. To get an idea why this was the case we can have a look at the mean age, passenger class and fare sorted by embarkment:"
   ]
  },
  {
   "cell_type": "code",
   "execution_count": 22,
   "metadata": {
    "execution": {
     "iopub.execute_input": "2020-09-01T16:51:41.502870Z",
     "iopub.status.busy": "2020-09-01T16:51:41.498111Z",
     "iopub.status.idle": "2020-09-01T16:51:41.510969Z",
     "shell.execute_reply": "2020-09-01T16:51:41.510274Z"
    },
    "papermill": {
     "duration": 0.048309,
     "end_time": "2020-09-01T16:51:41.511107",
     "exception": false,
     "start_time": "2020-09-01T16:51:41.462798",
     "status": "completed"
    },
    "tags": []
   },
   "outputs": [
    {
     "data": {
      "text/html": [
       "<div>\n",
       "<style scoped>\n",
       "    .dataframe tbody tr th:only-of-type {\n",
       "        vertical-align: middle;\n",
       "    }\n",
       "\n",
       "    .dataframe tbody tr th {\n",
       "        vertical-align: top;\n",
       "    }\n",
       "\n",
       "    .dataframe thead th {\n",
       "        text-align: right;\n",
       "    }\n",
       "</style>\n",
       "<table border=\"1\" class=\"dataframe\">\n",
       "  <thead>\n",
       "    <tr style=\"text-align: right;\">\n",
       "      <th></th>\n",
       "      <th>Survived</th>\n",
       "      <th>Pclass</th>\n",
       "      <th>Age</th>\n",
       "      <th>Fare</th>\n",
       "    </tr>\n",
       "    <tr>\n",
       "      <th>Embarked</th>\n",
       "      <th></th>\n",
       "      <th></th>\n",
       "      <th></th>\n",
       "      <th></th>\n",
       "    </tr>\n",
       "  </thead>\n",
       "  <tbody>\n",
       "    <tr>\n",
       "      <th>C</th>\n",
       "      <td>0.553571</td>\n",
       "      <td>1.886905</td>\n",
       "      <td>30.814769</td>\n",
       "      <td>59.954144</td>\n",
       "    </tr>\n",
       "    <tr>\n",
       "      <th>Q</th>\n",
       "      <td>0.389610</td>\n",
       "      <td>2.909091</td>\n",
       "      <td>28.089286</td>\n",
       "      <td>13.276030</td>\n",
       "    </tr>\n",
       "    <tr>\n",
       "      <th>S</th>\n",
       "      <td>0.336957</td>\n",
       "      <td>2.350932</td>\n",
       "      <td>29.445397</td>\n",
       "      <td>27.079812</td>\n",
       "    </tr>\n",
       "  </tbody>\n",
       "</table>\n",
       "</div>"
      ],
      "text/plain": [
       "          Survived    Pclass        Age       Fare\n",
       "Embarked                                          \n",
       "C         0.553571  1.886905  30.814769  59.954144\n",
       "Q         0.389610  2.909091  28.089286  13.276030\n",
       "S         0.336957  2.350932  29.445397  27.079812"
      ]
     },
     "execution_count": 22,
     "metadata": {},
     "output_type": "execute_result"
    }
   ],
   "source": [
    "train_data.groupby(['Embarked']).mean().drop(['PassengerId', 'SibSp', 'Parch'], axis=1)"
   ]
  },
  {
   "cell_type": "markdown",
   "execution_count": null,
   "metadata": {
    "papermill": {
     "duration": 0.027201,
     "end_time": "2020-09-01T16:51:41.565765",
     "exception": false,
     "start_time": "2020-09-01T16:51:41.538564",
     "status": "completed"
    },
    "tags": []
   },
   "source": [
    "**key takeaways**\n",
    "* People from Cherbourgh had on average a higher Passenger class and therefore a higher chance of survival\n",
    "* This is also reflected by the average ticket fare which is significantly higher than for the other ports.\n",
    "\n",
    "*Note: Even though Southampton had a higher mean fare compared to Queenstown the averge passenger class was lower and also the chance of survival.*"
   ]
  },
  {
   "cell_type": "markdown",
   "execution_count": null,
   "metadata": {
    "papermill": {
     "duration": 0.027124,
     "end_time": "2020-09-01T16:51:41.620283",
     "exception": false,
     "start_time": "2020-09-01T16:51:41.593159",
     "status": "completed"
    },
    "tags": []
   },
   "source": [
    "# Select and clean the data\n",
    "**Dataset Preparation**\n",
    "\n",
    "During the preprocessing and the feature engineering process we will deduct certain metrices from the range of a variable throughout the entire dataset (e.g. data binning of age quantiles). That's why we have to concatenate the test and the training data in a single dataframe before we get startet."
   ]
  },
  {
   "cell_type": "code",
   "execution_count": 23,
   "metadata": {
    "execution": {
     "iopub.execute_input": "2020-09-01T16:51:41.690101Z",
     "iopub.status.busy": "2020-09-01T16:51:41.689209Z",
     "iopub.status.idle": "2020-09-01T16:51:41.693810Z",
     "shell.execute_reply": "2020-09-01T16:51:41.693113Z"
    },
    "papermill": {
     "duration": 0.046296,
     "end_time": "2020-09-01T16:51:41.693933",
     "exception": false,
     "start_time": "2020-09-01T16:51:41.647637",
     "status": "completed"
    },
    "tags": []
   },
   "outputs": [],
   "source": [
    "# Quick function to combine 2 datasets:\n",
    "def concat_data(data_1, data_2):\n",
    "    \n",
    "    return pd.concat([data_1, data_2], sort=False).reset_index(drop=True)\n",
    "\n",
    "# Quick function to divide test and train data\n",
    "def divide_data(all_data):\n",
    "    \n",
    "    return all_data.loc[:890], all_data.loc[891:].drop(['Survived'], axis=1)\n",
    "\n",
    "# Concatenate train and test data\n",
    "data_all = concat_data(train_data, test_data)\n",
    "data_fs = [train_data, test_data]"
   ]
  },
  {
   "cell_type": "markdown",
   "execution_count": null,
   "metadata": {
    "papermill": {
     "duration": 0.027278,
     "end_time": "2020-09-01T16:51:41.749202",
     "exception": false,
     "start_time": "2020-09-01T16:51:41.721924",
     "status": "completed"
    },
    "tags": []
   },
   "source": [
    "\n",
    "\n",
    "<br>\n",
    "Now it is time to explore in detail what is inside the dataset and assess with which data pieces we want to continue working with. A real data set normally comes with certain challenges, since often values are missing, inconsistant, invalid or are outliers.\n",
    "<br>\n",
    "Let's quickly get the stats for our missing data:\n"
   ]
  },
  {
   "cell_type": "code",
   "execution_count": 24,
   "metadata": {
    "execution": {
     "iopub.execute_input": "2020-09-01T16:51:41.819406Z",
     "iopub.status.busy": "2020-09-01T16:51:41.818254Z",
     "iopub.status.idle": "2020-09-01T16:51:41.831896Z",
     "shell.execute_reply": "2020-09-01T16:51:41.831286Z"
    },
    "papermill": {
     "duration": 0.055281,
     "end_time": "2020-09-01T16:51:41.832048",
     "exception": false,
     "start_time": "2020-09-01T16:51:41.776767",
     "status": "completed"
    },
    "tags": []
   },
   "outputs": [],
   "source": [
    "# Create infos of missing data\n",
    "miss_data_dict = {}\n",
    "\n",
    "for key, dataset in data_dict.items():\n",
    "    \n",
    "    # Create missing data metrices\n",
    "    miss_abs = dataset.isnull().sum()\n",
    "    miss_rel = miss_abs / dataset.isnull().count()\n",
    "\n",
    "    # Write information on missing data to a structure variable\n",
    "    col_abs = '{}: missing values (absolut)'.format(key)\n",
    "    col_rel = '{}: missing values (relative in %)'.format(key)\n",
    "    \n",
    "    if key == 'test data':\n",
    "        miss_data_dict[key] =  pd.concat([miss_abs.sort_values(ascending=False),\n",
    "                                                  miss_rel.sort_values(ascending=False)*100], \n",
    "                                                  axis=1, keys=[col_abs, col_rel])\n",
    "    elif key == 'train data':\n",
    "        miss_data_dict[key] = pd.concat([miss_abs.sort_values(ascending=False),\n",
    "                                                  miss_rel.sort_values(ascending=False)*100], \n",
    "                                                  axis=1, keys=[col_abs, col_rel])\n",
    "        "
   ]
  },
  {
   "cell_type": "markdown",
   "execution_count": null,
   "metadata": {
    "papermill": {
     "duration": 0.027781,
     "end_time": "2020-09-01T16:51:41.888006",
     "exception": false,
     "start_time": "2020-09-01T16:51:41.860225",
     "status": "completed"
    },
    "tags": []
   },
   "source": [
    "**Missing training data**"
   ]
  },
  {
   "cell_type": "code",
   "execution_count": 25,
   "metadata": {
    "execution": {
     "iopub.execute_input": "2020-09-01T16:51:41.951969Z",
     "iopub.status.busy": "2020-09-01T16:51:41.950946Z",
     "iopub.status.idle": "2020-09-01T16:51:42.194270Z",
     "shell.execute_reply": "2020-09-01T16:51:42.194790Z"
    },
    "papermill": {
     "duration": 0.278756,
     "end_time": "2020-09-01T16:51:42.194946",
     "exception": false,
     "start_time": "2020-09-01T16:51:41.916190",
     "status": "completed"
    },
    "tags": []
   },
   "outputs": [
    {
     "data": {
      "text/html": [
       "<div>\n",
       "<style scoped>\n",
       "    .dataframe tbody tr th:only-of-type {\n",
       "        vertical-align: middle;\n",
       "    }\n",
       "\n",
       "    .dataframe tbody tr th {\n",
       "        vertical-align: top;\n",
       "    }\n",
       "\n",
       "    .dataframe thead th {\n",
       "        text-align: right;\n",
       "    }\n",
       "</style>\n",
       "<table border=\"1\" class=\"dataframe\">\n",
       "  <thead>\n",
       "    <tr style=\"text-align: right;\">\n",
       "      <th></th>\n",
       "      <th>train data: missing values (absolut)</th>\n",
       "      <th>train data: missing values (relative in %)</th>\n",
       "    </tr>\n",
       "  </thead>\n",
       "  <tbody>\n",
       "    <tr>\n",
       "      <th>Cabin</th>\n",
       "      <td>687</td>\n",
       "      <td>77.104377</td>\n",
       "    </tr>\n",
       "    <tr>\n",
       "      <th>Age</th>\n",
       "      <td>177</td>\n",
       "      <td>19.865320</td>\n",
       "    </tr>\n",
       "    <tr>\n",
       "      <th>Embarked</th>\n",
       "      <td>2</td>\n",
       "      <td>0.224467</td>\n",
       "    </tr>\n",
       "    <tr>\n",
       "      <th>Fare</th>\n",
       "      <td>0</td>\n",
       "      <td>0.000000</td>\n",
       "    </tr>\n",
       "    <tr>\n",
       "      <th>Ticket</th>\n",
       "      <td>0</td>\n",
       "      <td>0.000000</td>\n",
       "    </tr>\n",
       "  </tbody>\n",
       "</table>\n",
       "</div>"
      ],
      "text/plain": [
       "          train data: missing values (absolut)  \\\n",
       "Cabin                                      687   \n",
       "Age                                        177   \n",
       "Embarked                                     2   \n",
       "Fare                                         0   \n",
       "Ticket                                       0   \n",
       "\n",
       "          train data: missing values (relative in %)  \n",
       "Cabin                                      77.104377  \n",
       "Age                                        19.865320  \n",
       "Embarked                                    0.224467  \n",
       "Fare                                        0.000000  \n",
       "Ticket                                      0.000000  "
      ]
     },
     "execution_count": 25,
     "metadata": {},
     "output_type": "execute_result"
    },
    {
     "data": {
      "image/png": "[encoded data removed]",
      "text/plain": [
       "<Figure size 648x144 with 2 Axes>"
      ]
     },
     "metadata": {
      "needs_background": "light"
     },
     "output_type": "display_data"
    }
   ],
   "source": [
    "# Display missing train data\n",
    "msno.matrix(train_data,figsize=(9,2),width_ratios=(10,1))\n",
    "\n",
    "miss_data_dict['train data'].head()"
   ]
  },
  {
   "cell_type": "markdown",
   "execution_count": null,
   "metadata": {
    "papermill": {
     "duration": 0.027994,
     "end_time": "2020-09-01T16:51:42.251799",
     "exception": false,
     "start_time": "2020-09-01T16:51:42.223805",
     "status": "completed"
    },
    "tags": []
   },
   "source": [
    "**Missing test data**"
   ]
  },
  {
   "cell_type": "code",
   "execution_count": 26,
   "metadata": {
    "execution": {
     "iopub.execute_input": "2020-09-01T16:51:42.315682Z",
     "iopub.status.busy": "2020-09-01T16:51:42.314935Z",
     "iopub.status.idle": "2020-09-01T16:51:42.548533Z",
     "shell.execute_reply": "2020-09-01T16:51:42.547805Z"
    },
    "papermill": {
     "duration": 0.268405,
     "end_time": "2020-09-01T16:51:42.548652",
     "exception": false,
     "start_time": "2020-09-01T16:51:42.280247",
     "status": "completed"
    },
    "tags": []
   },
   "outputs": [
    {
     "data": {
      "text/html": [
       "<div>\n",
       "<style scoped>\n",
       "    .dataframe tbody tr th:only-of-type {\n",
       "        vertical-align: middle;\n",
       "    }\n",
       "\n",
       "    .dataframe tbody tr th {\n",
       "        vertical-align: top;\n",
       "    }\n",
       "\n",
       "    .dataframe thead th {\n",
       "        text-align: right;\n",
       "    }\n",
       "</style>\n",
       "<table border=\"1\" class=\"dataframe\">\n",
       "  <thead>\n",
       "    <tr style=\"text-align: right;\">\n",
       "      <th></th>\n",
       "      <th>test data: missing values (absolut)</th>\n",
       "      <th>test data: missing values (relative in %)</th>\n",
       "    </tr>\n",
       "  </thead>\n",
       "  <tbody>\n",
       "    <tr>\n",
       "      <th>Cabin</th>\n",
       "      <td>327</td>\n",
       "      <td>78.229665</td>\n",
       "    </tr>\n",
       "    <tr>\n",
       "      <th>Age</th>\n",
       "      <td>86</td>\n",
       "      <td>20.574163</td>\n",
       "    </tr>\n",
       "    <tr>\n",
       "      <th>Fare</th>\n",
       "      <td>1</td>\n",
       "      <td>0.239234</td>\n",
       "    </tr>\n",
       "    <tr>\n",
       "      <th>Embarked</th>\n",
       "      <td>0</td>\n",
       "      <td>0.000000</td>\n",
       "    </tr>\n",
       "    <tr>\n",
       "      <th>Ticket</th>\n",
       "      <td>0</td>\n",
       "      <td>0.000000</td>\n",
       "    </tr>\n",
       "  </tbody>\n",
       "</table>\n",
       "</div>"
      ],
      "text/plain": [
       "          test data: missing values (absolut)  \\\n",
       "Cabin                                     327   \n",
       "Age                                        86   \n",
       "Fare                                        1   \n",
       "Embarked                                    0   \n",
       "Ticket                                      0   \n",
       "\n",
       "          test data: missing values (relative in %)  \n",
       "Cabin                                     78.229665  \n",
       "Age                                       20.574163  \n",
       "Fare                                       0.239234  \n",
       "Embarked                                   0.000000  \n",
       "Ticket                                     0.000000  "
      ]
     },
     "execution_count": 26,
     "metadata": {},
     "output_type": "execute_result"
    },
    {
     "data": {
      "image/png": "[encoded data removed]",
      "text/plain": [
       "<Figure size 648x144 with 2 Axes>"
      ]
     },
     "metadata": {
      "needs_background": "light"
     },
     "output_type": "display_data"
    }
   ],
   "source": [
    "# Display missing test data\n",
    "msno.matrix(test_data,figsize=(9,2),width_ratios=(10,1))\n",
    "miss_data_dict['test data'].head()"
   ]
  },
  {
   "cell_type": "markdown",
   "execution_count": null,
   "metadata": {
    "papermill": {
     "duration": 0.028677,
     "end_time": "2020-09-01T16:51:42.606641",
     "exception": false,
     "start_time": "2020-09-01T16:51:42.577964",
     "status": "completed"
    },
    "tags": []
   },
   "source": [
    "From the figures above we can see that in both, the training and the test data, we find missing values. In both cases the most missing values we have within \"Cabin\" (ca. 80% missing values) and \"Age\" (ca. 20% missing values).\n",
    "Let's see ho we can handle this."
   ]
  },
  {
   "cell_type": "markdown",
   "execution_count": null,
   "metadata": {
    "papermill": {
     "duration": 0.028361,
     "end_time": "2020-09-01T16:51:42.664106",
     "exception": false,
     "start_time": "2020-09-01T16:51:42.635745",
     "status": "completed"
    },
    "tags": []
   },
   "source": [
    "**Missing age values**\n",
    "<br>\n",
    "Around 20% of the age data is missing which is a serious issue.\n",
    "<br>\n",
    "From the data analysis we know that the passenger's age correlates to passenger class and gender.\n",
    "<br>\n",
    "The graph below shows the age range within the different passenger classes. We observe that the average age increases from third to first class. This seems plausible since older people are wealthier on average than younger people.\n"
   ]
  },
  {
   "cell_type": "code",
   "execution_count": 27,
   "metadata": {
    "execution": {
     "iopub.execute_input": "2020-09-01T16:51:42.729594Z",
     "iopub.status.busy": "2020-09-01T16:51:42.728568Z",
     "iopub.status.idle": "2020-09-01T16:51:42.737396Z",
     "shell.execute_reply": "2020-09-01T16:51:42.736665Z"
    },
    "papermill": {
     "duration": 0.044667,
     "end_time": "2020-09-01T16:51:42.737511",
     "exception": false,
     "start_time": "2020-09-01T16:51:42.692844",
     "status": "completed"
    },
    "tags": []
   },
   "outputs": [
    {
     "data": {
      "text/plain": [
       "Pclass  Sex   \n",
       "1       female    37.037594\n",
       "        male      41.029272\n",
       "2       female    27.499223\n",
       "        male      30.815380\n",
       "3       female    22.185329\n",
       "        male      25.962264\n",
       "Name: Age, dtype: float64"
      ]
     },
     "execution_count": 27,
     "metadata": {},
     "output_type": "execute_result"
    }
   ],
   "source": [
    "# Print average age per subcategory ('Pclass' and 'Sex')\n",
    "data_all.groupby(['Pclass', 'Sex'])['Age'].mean()"
   ]
  },
  {
   "cell_type": "markdown",
   "execution_count": null,
   "metadata": {
    "papermill": {
     "duration": 0.028929,
     "end_time": "2020-09-01T16:51:42.795678",
     "exception": false,
     "start_time": "2020-09-01T16:51:42.766749",
     "status": "completed"
    },
    "tags": []
   },
   "source": [
    "**Before**: Missing age data and corresponding passenger class, sex"
   ]
  },
  {
   "cell_type": "code",
   "execution_count": 28,
   "metadata": {
    "execution": {
     "iopub.execute_input": "2020-09-01T16:51:42.873761Z",
     "iopub.status.busy": "2020-09-01T16:51:42.872931Z",
     "iopub.status.idle": "2020-09-01T16:51:42.876768Z",
     "shell.execute_reply": "2020-09-01T16:51:42.877476Z"
    },
    "papermill": {
     "duration": 0.05241,
     "end_time": "2020-09-01T16:51:42.877629",
     "exception": false,
     "start_time": "2020-09-01T16:51:42.825219",
     "status": "completed"
    },
    "tags": []
   },
   "outputs": [
    {
     "data": {
      "text/html": [
       "<div>\n",
       "<style scoped>\n",
       "    .dataframe tbody tr th:only-of-type {\n",
       "        vertical-align: middle;\n",
       "    }\n",
       "\n",
       "    .dataframe tbody tr th {\n",
       "        vertical-align: top;\n",
       "    }\n",
       "\n",
       "    .dataframe thead th {\n",
       "        text-align: right;\n",
       "    }\n",
       "</style>\n",
       "<table border=\"1\" class=\"dataframe\">\n",
       "  <thead>\n",
       "    <tr style=\"text-align: right;\">\n",
       "      <th></th>\n",
       "      <th>Pclass</th>\n",
       "      <th>Sex</th>\n",
       "      <th>Age</th>\n",
       "    </tr>\n",
       "  </thead>\n",
       "  <tbody>\n",
       "    <tr>\n",
       "      <th>5</th>\n",
       "      <td>3</td>\n",
       "      <td>male</td>\n",
       "      <td>NaN</td>\n",
       "    </tr>\n",
       "    <tr>\n",
       "      <th>17</th>\n",
       "      <td>2</td>\n",
       "      <td>male</td>\n",
       "      <td>NaN</td>\n",
       "    </tr>\n",
       "    <tr>\n",
       "      <th>19</th>\n",
       "      <td>3</td>\n",
       "      <td>female</td>\n",
       "      <td>NaN</td>\n",
       "    </tr>\n",
       "    <tr>\n",
       "      <th>26</th>\n",
       "      <td>3</td>\n",
       "      <td>male</td>\n",
       "      <td>NaN</td>\n",
       "    </tr>\n",
       "    <tr>\n",
       "      <th>28</th>\n",
       "      <td>3</td>\n",
       "      <td>female</td>\n",
       "      <td>NaN</td>\n",
       "    </tr>\n",
       "    <tr>\n",
       "      <th>...</th>\n",
       "      <td>...</td>\n",
       "      <td>...</td>\n",
       "      <td>...</td>\n",
       "    </tr>\n",
       "    <tr>\n",
       "      <th>1299</th>\n",
       "      <td>3</td>\n",
       "      <td>female</td>\n",
       "      <td>NaN</td>\n",
       "    </tr>\n",
       "    <tr>\n",
       "      <th>1301</th>\n",
       "      <td>3</td>\n",
       "      <td>female</td>\n",
       "      <td>NaN</td>\n",
       "    </tr>\n",
       "    <tr>\n",
       "      <th>1304</th>\n",
       "      <td>3</td>\n",
       "      <td>male</td>\n",
       "      <td>NaN</td>\n",
       "    </tr>\n",
       "    <tr>\n",
       "      <th>1307</th>\n",
       "      <td>3</td>\n",
       "      <td>male</td>\n",
       "      <td>NaN</td>\n",
       "    </tr>\n",
       "    <tr>\n",
       "      <th>1308</th>\n",
       "      <td>3</td>\n",
       "      <td>male</td>\n",
       "      <td>NaN</td>\n",
       "    </tr>\n",
       "  </tbody>\n",
       "</table>\n",
       "<p>263 rows × 3 columns</p>\n",
       "</div>"
      ],
      "text/plain": [
       "      Pclass     Sex  Age\n",
       "5          3    male  NaN\n",
       "17         2    male  NaN\n",
       "19         3  female  NaN\n",
       "26         3    male  NaN\n",
       "28         3  female  NaN\n",
       "...      ...     ...  ...\n",
       "1299       3  female  NaN\n",
       "1301       3  female  NaN\n",
       "1304       3    male  NaN\n",
       "1307       3    male  NaN\n",
       "1308       3    male  NaN\n",
       "\n",
       "[263 rows x 3 columns]"
      ]
     },
     "execution_count": 28,
     "metadata": {},
     "output_type": "execute_result"
    }
   ],
   "source": [
    "# Get indices of NaN age data\n",
    "index = data_all['Age'].index[data_all['Age'].apply(np.isnan)]\n",
    "\n",
    "data_all.loc[index, ['Pclass', 'Sex', 'Age']]"
   ]
  },
  {
   "cell_type": "markdown",
   "execution_count": null,
   "metadata": {
    "papermill": {
     "duration": 0.029653,
     "end_time": "2020-09-01T16:51:42.937393",
     "exception": false,
     "start_time": "2020-09-01T16:51:42.907740",
     "status": "completed"
    },
    "tags": []
   },
   "source": [
    "**After**: Missing age data and corresponding passenger class, sex"
   ]
  },
  {
   "cell_type": "code",
   "execution_count": 29,
   "metadata": {
    "execution": {
     "iopub.execute_input": "2020-09-01T16:51:43.009949Z",
     "iopub.status.busy": "2020-09-01T16:51:43.009196Z",
     "iopub.status.idle": "2020-09-01T16:51:43.013294Z",
     "shell.execute_reply": "2020-09-01T16:51:43.012530Z"
    },
    "papermill": {
     "duration": 0.045836,
     "end_time": "2020-09-01T16:51:43.013421",
     "exception": false,
     "start_time": "2020-09-01T16:51:42.967585",
     "status": "completed"
    },
    "tags": []
   },
   "outputs": [
    {
     "name": "stdout",
     "output_type": "stream",
     "text": [
      "<class 'pandas.core.frame.DataFrame'>\n",
      "RangeIndex: 891 entries, 0 to 890\n",
      "Data columns (total 12 columns):\n",
      " #   Column       Non-Null Count  Dtype  \n",
      "---  ------       --------------  -----  \n",
      " 0   PassengerId  891 non-null    int64  \n",
      " 1   Survived     891 non-null    int64  \n",
      " 2   Pclass       891 non-null    int64  \n",
      " 3   Name         891 non-null    object \n",
      " 4   Sex          891 non-null    object \n",
      " 5   Age          714 non-null    float64\n",
      " 6   SibSp        891 non-null    int64  \n",
      " 7   Parch        891 non-null    int64  \n",
      " 8   Ticket       891 non-null    object \n",
      " 9   Fare         891 non-null    float64\n",
      " 10  Cabin        204 non-null    object \n",
      " 11  Embarked     889 non-null    object \n",
      "dtypes: float64(2), int64(5), object(5)\n",
      "memory usage: 83.7+ KB\n"
     ]
    }
   ],
   "source": [
    "train_data.info()"
   ]
  },
  {
   "cell_type": "code",
   "execution_count": 30,
   "metadata": {
    "execution": {
     "iopub.execute_input": "2020-09-01T16:51:43.082780Z",
     "iopub.status.busy": "2020-09-01T16:51:43.081996Z",
     "iopub.status.idle": "2020-09-01T16:51:43.103794Z",
     "shell.execute_reply": "2020-09-01T16:51:43.103096Z"
    },
    "papermill": {
     "duration": 0.060558,
     "end_time": "2020-09-01T16:51:43.103916",
     "exception": false,
     "start_time": "2020-09-01T16:51:43.043358",
     "status": "completed"
    },
    "tags": []
   },
   "outputs": [
    {
     "data": {
      "text/html": [
       "<div>\n",
       "<style scoped>\n",
       "    .dataframe tbody tr th:only-of-type {\n",
       "        vertical-align: middle;\n",
       "    }\n",
       "\n",
       "    .dataframe tbody tr th {\n",
       "        vertical-align: top;\n",
       "    }\n",
       "\n",
       "    .dataframe thead th {\n",
       "        text-align: right;\n",
       "    }\n",
       "</style>\n",
       "<table border=\"1\" class=\"dataframe\">\n",
       "  <thead>\n",
       "    <tr style=\"text-align: right;\">\n",
       "      <th></th>\n",
       "      <th>Pclass</th>\n",
       "      <th>Sex</th>\n",
       "      <th>Age</th>\n",
       "    </tr>\n",
       "  </thead>\n",
       "  <tbody>\n",
       "    <tr>\n",
       "      <th>5</th>\n",
       "      <td>3</td>\n",
       "      <td>male</td>\n",
       "      <td>25.962264</td>\n",
       "    </tr>\n",
       "    <tr>\n",
       "      <th>17</th>\n",
       "      <td>2</td>\n",
       "      <td>male</td>\n",
       "      <td>30.815380</td>\n",
       "    </tr>\n",
       "    <tr>\n",
       "      <th>19</th>\n",
       "      <td>3</td>\n",
       "      <td>female</td>\n",
       "      <td>22.185329</td>\n",
       "    </tr>\n",
       "    <tr>\n",
       "      <th>26</th>\n",
       "      <td>3</td>\n",
       "      <td>male</td>\n",
       "      <td>25.962264</td>\n",
       "    </tr>\n",
       "    <tr>\n",
       "      <th>28</th>\n",
       "      <td>3</td>\n",
       "      <td>female</td>\n",
       "      <td>22.185329</td>\n",
       "    </tr>\n",
       "    <tr>\n",
       "      <th>...</th>\n",
       "      <td>...</td>\n",
       "      <td>...</td>\n",
       "      <td>...</td>\n",
       "    </tr>\n",
       "    <tr>\n",
       "      <th>1299</th>\n",
       "      <td>3</td>\n",
       "      <td>female</td>\n",
       "      <td>22.185329</td>\n",
       "    </tr>\n",
       "    <tr>\n",
       "      <th>1301</th>\n",
       "      <td>3</td>\n",
       "      <td>female</td>\n",
       "      <td>22.185329</td>\n",
       "    </tr>\n",
       "    <tr>\n",
       "      <th>1304</th>\n",
       "      <td>3</td>\n",
       "      <td>male</td>\n",
       "      <td>25.962264</td>\n",
       "    </tr>\n",
       "    <tr>\n",
       "      <th>1307</th>\n",
       "      <td>3</td>\n",
       "      <td>male</td>\n",
       "      <td>25.962264</td>\n",
       "    </tr>\n",
       "    <tr>\n",
       "      <th>1308</th>\n",
       "      <td>3</td>\n",
       "      <td>male</td>\n",
       "      <td>25.962264</td>\n",
       "    </tr>\n",
       "  </tbody>\n",
       "</table>\n",
       "<p>263 rows × 3 columns</p>\n",
       "</div>"
      ],
      "text/plain": [
       "      Pclass     Sex        Age\n",
       "5          3    male  25.962264\n",
       "17         2    male  30.815380\n",
       "19         3  female  22.185329\n",
       "26         3    male  25.962264\n",
       "28         3  female  22.185329\n",
       "...      ...     ...        ...\n",
       "1299       3  female  22.185329\n",
       "1301       3  female  22.185329\n",
       "1304       3    male  25.962264\n",
       "1307       3    male  25.962264\n",
       "1308       3    male  25.962264\n",
       "\n",
       "[263 rows x 3 columns]"
      ]
     },
     "execution_count": 30,
     "metadata": {},
     "output_type": "execute_result"
    }
   ],
   "source": [
    "# Replace missing valuse with medium of subgroup\n",
    "data_all['Age'] = data_all.groupby(['Pclass', 'Sex'])['Age'].apply(lambda x: x.fillna(x.mean()))\n",
    "\n",
    "# Save changes to data_dict\n",
    "train_data, test_data = divide_data(data_all)\n",
    "data_dict['train data'] = train_data\n",
    "data_dict['test data']  = test_data\n",
    "\n",
    "data_all.loc[index, ['Pclass', 'Sex', 'Age']]"
   ]
  },
  {
   "cell_type": "markdown",
   "execution_count": null,
   "metadata": {
    "papermill": {
     "duration": 0.029981,
     "end_time": "2020-09-01T16:51:43.164131",
     "exception": false,
     "start_time": "2020-09-01T16:51:43.134150",
     "status": "completed"
    },
    "tags": []
   },
   "source": [
    "**Missing cabin values**\n",
    "<br>\n",
    "When it comes to the cabin value we only have data for 20% of our observations. That's why many people usually would drop this feature from the dataset. However, in the following we want to try to keep the dataset and use an approach similar to this notebook ([link](https://www.kaggle.com/kpacocha/top-5-titanic-machine-learning-from-disaster)):\n",
    "* Extract the first letter which corresponds to the cabin deck\n",
    "* Observe correlations between cabin deck and other features\n",
    "* Chose the feature which can be best correlated to the cabin deck and replace the unknown deck entries accordingly\n",
    "\n",
    "*Note: When you deal with the data you will observe that it is impossible to directy deduct the cabin deck from other categories. Therefore, I also tried to find some historical information which might be useful in allocating the missing deck information to the passengers. However, this turned out to be quite complexe: There is a full body of academic and non-academic sources trying to allocate the cabins on the Titanic ([link](https://www.encyclopedia-titanica.org/cabins.html)). In the consequence, I sticked to the simple approach described above.*"
   ]
  },
  {
   "cell_type": "code",
   "execution_count": 31,
   "metadata": {
    "execution": {
     "iopub.execute_input": "2020-09-01T16:51:43.236099Z",
     "iopub.status.busy": "2020-09-01T16:51:43.235127Z",
     "iopub.status.idle": "2020-09-01T16:51:43.238147Z",
     "shell.execute_reply": "2020-09-01T16:51:43.237513Z"
    },
    "papermill": {
     "duration": 0.043723,
     "end_time": "2020-09-01T16:51:43.238270",
     "exception": false,
     "start_time": "2020-09-01T16:51:43.194547",
     "status": "completed"
    },
    "tags": []
   },
   "outputs": [],
   "source": [
    "# Fill missing data with 'Unknown'\n",
    "data_all.Cabin = data_all.Cabin.fillna('Unknown')\n",
    "\n",
    "# Extract first letter form 'Cabin' and save to new feature 'Deck'\n",
    "data_all['Deck'] = data_all['Cabin'].str[0]"
   ]
  },
  {
   "cell_type": "markdown",
   "execution_count": null,
   "metadata": {
    "papermill": {
     "duration": 0.030722,
     "end_time": "2020-09-01T16:51:43.300598",
     "exception": false,
     "start_time": "2020-09-01T16:51:43.269876",
     "status": "completed"
    },
    "tags": []
   },
   "source": [
    "**Passenger class and cabin deck:**"
   ]
  },
  {
   "cell_type": "code",
   "execution_count": 32,
   "metadata": {
    "execution": {
     "iopub.execute_input": "2020-09-01T16:51:43.369637Z",
     "iopub.status.busy": "2020-09-01T16:51:43.368833Z",
     "iopub.status.idle": "2020-09-01T16:51:43.379276Z",
     "shell.execute_reply": "2020-09-01T16:51:43.378536Z"
    },
    "papermill": {
     "duration": 0.047684,
     "end_time": "2020-09-01T16:51:43.379399",
     "exception": false,
     "start_time": "2020-09-01T16:51:43.331715",
     "status": "completed"
    },
    "tags": []
   },
   "outputs": [
    {
     "data": {
      "text/plain": [
       "Pclass  Deck\n",
       "1       C        94\n",
       "        U        67\n",
       "        B        65\n",
       "        D        40\n",
       "        E        34\n",
       "        A        22\n",
       "        T         1\n",
       "2       U       254\n",
       "        F        13\n",
       "        D         6\n",
       "        E         4\n",
       "3       U       693\n",
       "        F         8\n",
       "        G         5\n",
       "        E         3\n",
       "Name: Deck, dtype: int64"
      ]
     },
     "execution_count": 32,
     "metadata": {},
     "output_type": "execute_result"
    }
   ],
   "source": [
    "data_all.groupby(['Pclass']).Deck.value_counts()"
   ]
  },
  {
   "cell_type": "markdown",
   "execution_count": null,
   "metadata": {
    "papermill": {
     "duration": 0.030591,
     "end_time": "2020-09-01T16:51:43.440878",
     "exception": false,
     "start_time": "2020-09-01T16:51:43.410287",
     "status": "completed"
    },
    "tags": []
   },
   "source": [
    "**Survival rate, mean Passenger class, Age and Fare by cabin deck:**"
   ]
  },
  {
   "cell_type": "code",
   "execution_count": 33,
   "metadata": {
    "execution": {
     "iopub.execute_input": "2020-09-01T16:51:43.511759Z",
     "iopub.status.busy": "2020-09-01T16:51:43.510143Z",
     "iopub.status.idle": "2020-09-01T16:51:43.527512Z",
     "shell.execute_reply": "2020-09-01T16:51:43.526733Z"
    },
    "papermill": {
     "duration": 0.055686,
     "end_time": "2020-09-01T16:51:43.527639",
     "exception": false,
     "start_time": "2020-09-01T16:51:43.471953",
     "status": "completed"
    },
    "tags": []
   },
   "outputs": [
    {
     "data": {
      "text/html": [
       "<div>\n",
       "<style scoped>\n",
       "    .dataframe tbody tr th:only-of-type {\n",
       "        vertical-align: middle;\n",
       "    }\n",
       "\n",
       "    .dataframe tbody tr th {\n",
       "        vertical-align: top;\n",
       "    }\n",
       "\n",
       "    .dataframe thead th {\n",
       "        text-align: right;\n",
       "    }\n",
       "</style>\n",
       "<table border=\"1\" class=\"dataframe\">\n",
       "  <thead>\n",
       "    <tr style=\"text-align: right;\">\n",
       "      <th></th>\n",
       "      <th>Survived</th>\n",
       "      <th>Pclass</th>\n",
       "      <th>Age</th>\n",
       "      <th>Fare</th>\n",
       "    </tr>\n",
       "    <tr>\n",
       "      <th>Deck</th>\n",
       "      <th></th>\n",
       "      <th></th>\n",
       "      <th></th>\n",
       "      <th></th>\n",
       "    </tr>\n",
       "  </thead>\n",
       "  <tbody>\n",
       "    <tr>\n",
       "      <th>A</th>\n",
       "      <td>0.466667</td>\n",
       "      <td>1.000000</td>\n",
       "      <td>43.731264</td>\n",
       "      <td>41.244314</td>\n",
       "    </tr>\n",
       "    <tr>\n",
       "      <th>B</th>\n",
       "      <td>0.744681</td>\n",
       "      <td>1.000000</td>\n",
       "      <td>36.554875</td>\n",
       "      <td>122.383078</td>\n",
       "    </tr>\n",
       "    <tr>\n",
       "      <th>C</th>\n",
       "      <td>0.593220</td>\n",
       "      <td>1.000000</td>\n",
       "      <td>38.523094</td>\n",
       "      <td>107.926598</td>\n",
       "    </tr>\n",
       "    <tr>\n",
       "      <th>D</th>\n",
       "      <td>0.757576</td>\n",
       "      <td>1.130435</td>\n",
       "      <td>39.508946</td>\n",
       "      <td>53.007339</td>\n",
       "    </tr>\n",
       "    <tr>\n",
       "      <th>E</th>\n",
       "      <td>0.750000</td>\n",
       "      <td>1.243902</td>\n",
       "      <td>37.904051</td>\n",
       "      <td>54.564634</td>\n",
       "    </tr>\n",
       "    <tr>\n",
       "      <th>F</th>\n",
       "      <td>0.615385</td>\n",
       "      <td>2.380952</td>\n",
       "      <td>21.814755</td>\n",
       "      <td>18.079367</td>\n",
       "    </tr>\n",
       "    <tr>\n",
       "      <th>G</th>\n",
       "      <td>0.500000</td>\n",
       "      <td>3.000000</td>\n",
       "      <td>12.000000</td>\n",
       "      <td>14.205000</td>\n",
       "    </tr>\n",
       "    <tr>\n",
       "      <th>T</th>\n",
       "      <td>0.000000</td>\n",
       "      <td>1.000000</td>\n",
       "      <td>45.000000</td>\n",
       "      <td>35.500000</td>\n",
       "    </tr>\n",
       "    <tr>\n",
       "      <th>U</th>\n",
       "      <td>0.299854</td>\n",
       "      <td>2.617357</td>\n",
       "      <td>27.179009</td>\n",
       "      <td>19.132707</td>\n",
       "    </tr>\n",
       "  </tbody>\n",
       "</table>\n",
       "</div>"
      ],
      "text/plain": [
       "      Survived    Pclass        Age        Fare\n",
       "Deck                                           \n",
       "A     0.466667  1.000000  43.731264   41.244314\n",
       "B     0.744681  1.000000  36.554875  122.383078\n",
       "C     0.593220  1.000000  38.523094  107.926598\n",
       "D     0.757576  1.130435  39.508946   53.007339\n",
       "E     0.750000  1.243902  37.904051   54.564634\n",
       "F     0.615385  2.380952  21.814755   18.079367\n",
       "G     0.500000  3.000000  12.000000   14.205000\n",
       "T     0.000000  1.000000  45.000000   35.500000\n",
       "U     0.299854  2.617357  27.179009   19.132707"
      ]
     },
     "execution_count": 33,
     "metadata": {},
     "output_type": "execute_result"
    }
   ],
   "source": [
    "data_all.groupby(['Deck']).mean().drop(['PassengerId', 'SibSp', 'Parch'], axis=1)"
   ]
  },
  {
   "cell_type": "markdown",
   "execution_count": null,
   "metadata": {
    "papermill": {
     "duration": 0.030665,
     "end_time": "2020-09-01T16:51:43.589712",
     "exception": false,
     "start_time": "2020-09-01T16:51:43.559047",
     "status": "completed"
    },
    "tags": []
   },
   "source": [
    "**Key takeaways**\n",
    "<br>\n",
    "* The data for the decks A, B and C consist only of First class passengers.\n",
    "* Lack of cabin data comes with lower class passengers, lower fare values and lower age.\n",
    "* With the exception of the First Class, the majority of the cabin data is missing\n",
    "\n",
    "In the following, we want to replace the 'unknown' deck values by the deck which average fare is closest to the correlated fare. \n",
    "\n"
   ]
  },
  {
   "cell_type": "code",
   "execution_count": 34,
   "metadata": {
    "execution": {
     "iopub.execute_input": "2020-09-01T16:51:43.663034Z",
     "iopub.status.busy": "2020-09-01T16:51:43.658842Z",
     "iopub.status.idle": "2020-09-01T16:51:43.979877Z",
     "shell.execute_reply": "2020-09-01T16:51:43.979275Z"
    },
    "papermill": {
     "duration": 0.3594,
     "end_time": "2020-09-01T16:51:43.980011",
     "exception": false,
     "start_time": "2020-09-01T16:51:43.620611",
     "status": "completed"
    },
    "tags": []
   },
   "outputs": [
    {
     "data": {
      "image/png": "[encoded data removed]",
      "text/plain": [
       "<Figure size 360x360 with 1 Axes>"
      ]
     },
     "metadata": {
      "needs_background": "light"
     },
     "output_type": "display_data"
    }
   ],
   "source": [
    "# Plot median fare for different decks\n",
    "sns.factorplot(data = data_all , x = 'Deck' , y = 'Fare', \n",
    "               kind = 'box');"
   ]
  },
  {
   "cell_type": "markdown",
   "execution_count": null,
   "metadata": {
    "papermill": {
     "duration": 0.031717,
     "end_time": "2020-09-01T16:51:44.043772",
     "exception": false,
     "start_time": "2020-09-01T16:51:44.012055",
     "status": "completed"
    },
    "tags": []
   },
   "source": [
    "We choose to replace the missing deck information with the help of the fare data."
   ]
  },
  {
   "cell_type": "code",
   "execution_count": 35,
   "metadata": {
    "execution": {
     "iopub.execute_input": "2020-09-01T16:51:44.117902Z",
     "iopub.status.busy": "2020-09-01T16:51:44.117040Z",
     "iopub.status.idle": "2020-09-01T16:51:44.121734Z",
     "shell.execute_reply": "2020-09-01T16:51:44.121115Z"
    },
    "papermill": {
     "duration": 0.046204,
     "end_time": "2020-09-01T16:51:44.121853",
     "exception": false,
     "start_time": "2020-09-01T16:51:44.075649",
     "status": "completed"
    },
    "tags": []
   },
   "outputs": [
    {
     "data": {
      "text/plain": [
       "Deck\n",
       "A     41.244314\n",
       "B    122.383078\n",
       "C    107.926598\n",
       "D     53.007339\n",
       "E     54.564634\n",
       "F     18.079367\n",
       "G     14.205000\n",
       "T     35.500000\n",
       "Name: Fare, dtype: float64"
      ]
     },
     "execution_count": 35,
     "metadata": {},
     "output_type": "execute_result"
    }
   ],
   "source": [
    "# Create list with average fare for each deck, drop category 'U'\n",
    "deck_avg_fare = data_all.groupby(['Deck']).Fare.mean().drop('U')\n",
    "deck_avg_fare"
   ]
  },
  {
   "cell_type": "code",
   "execution_count": 36,
   "metadata": {
    "execution": {
     "iopub.execute_input": "2020-09-01T16:51:44.257966Z",
     "iopub.status.busy": "2020-09-01T16:51:44.241634Z",
     "iopub.status.idle": "2020-09-01T16:51:45.142210Z",
     "shell.execute_reply": "2020-09-01T16:51:45.141400Z"
    },
    "papermill": {
     "duration": 0.987807,
     "end_time": "2020-09-01T16:51:45.142337",
     "exception": false,
     "start_time": "2020-09-01T16:51:44.154530",
     "status": "completed"
    },
    "tags": []
   },
   "outputs": [],
   "source": [
    "# Get indices with 'U' from data\n",
    "indices_U = data_all[data_all['Deck'] == 'U'].index\n",
    "\n",
    "# Loop over indices with 'U'\n",
    "for i in indices_U:\n",
    "    \n",
    "    # Get current fare\n",
    "    fare = data_all.iloc[i].Fare\n",
    "    \n",
    "    # Identify nearest average fare for current fare\n",
    "    nearest_avg_fare = min(deck_avg_fare, key=lambda x:abs(x-fare))\n",
    "\n",
    "    # Return deck letter for nearest average fare\n",
    "    deck = deck_avg_fare[deck_avg_fare == nearest_avg_fare].index[0]\n",
    "    \n",
    "    # Write to deck category\n",
    "    data_all['Deck'].iloc[i] = deck\n",
    "    \n",
    "# Save changes to data_dict\n",
    "train_data, test_data = divide_data(data_all)\n",
    "data_dict['train data'] = train_data\n",
    "data_dict['test data']  = test_data"
   ]
  },
  {
   "cell_type": "code",
   "execution_count": 37,
   "metadata": {
    "execution": {
     "iopub.execute_input": "2020-09-01T16:51:45.211720Z",
     "iopub.status.busy": "2020-09-01T16:51:45.210680Z",
     "iopub.status.idle": "2020-09-01T16:51:45.225566Z",
     "shell.execute_reply": "2020-09-01T16:51:45.224964Z"
    },
    "papermill": {
     "duration": 0.051733,
     "end_time": "2020-09-01T16:51:45.225700",
     "exception": false,
     "start_time": "2020-09-01T16:51:45.173967",
     "status": "completed"
    },
    "tags": []
   },
   "outputs": [
    {
     "data": {
      "text/html": [
       "<div>\n",
       "<style scoped>\n",
       "    .dataframe tbody tr th:only-of-type {\n",
       "        vertical-align: middle;\n",
       "    }\n",
       "\n",
       "    .dataframe tbody tr th {\n",
       "        vertical-align: top;\n",
       "    }\n",
       "\n",
       "    .dataframe thead th {\n",
       "        text-align: right;\n",
       "    }\n",
       "</style>\n",
       "<table border=\"1\" class=\"dataframe\">\n",
       "  <thead>\n",
       "    <tr style=\"text-align: right;\">\n",
       "      <th></th>\n",
       "      <th>Fare</th>\n",
       "      <th>Deck</th>\n",
       "    </tr>\n",
       "  </thead>\n",
       "  <tbody>\n",
       "    <tr>\n",
       "      <th>0</th>\n",
       "      <td>7.2500</td>\n",
       "      <td>G</td>\n",
       "    </tr>\n",
       "    <tr>\n",
       "      <th>2</th>\n",
       "      <td>7.9250</td>\n",
       "      <td>G</td>\n",
       "    </tr>\n",
       "    <tr>\n",
       "      <th>4</th>\n",
       "      <td>8.0500</td>\n",
       "      <td>G</td>\n",
       "    </tr>\n",
       "    <tr>\n",
       "      <th>5</th>\n",
       "      <td>8.4583</td>\n",
       "      <td>G</td>\n",
       "    </tr>\n",
       "    <tr>\n",
       "      <th>7</th>\n",
       "      <td>21.0750</td>\n",
       "      <td>F</td>\n",
       "    </tr>\n",
       "    <tr>\n",
       "      <th>...</th>\n",
       "      <td>...</td>\n",
       "      <td>...</td>\n",
       "    </tr>\n",
       "    <tr>\n",
       "      <th>1303</th>\n",
       "      <td>7.7750</td>\n",
       "      <td>G</td>\n",
       "    </tr>\n",
       "    <tr>\n",
       "      <th>1304</th>\n",
       "      <td>8.0500</td>\n",
       "      <td>G</td>\n",
       "    </tr>\n",
       "    <tr>\n",
       "      <th>1306</th>\n",
       "      <td>7.2500</td>\n",
       "      <td>G</td>\n",
       "    </tr>\n",
       "    <tr>\n",
       "      <th>1307</th>\n",
       "      <td>8.0500</td>\n",
       "      <td>G</td>\n",
       "    </tr>\n",
       "    <tr>\n",
       "      <th>1308</th>\n",
       "      <td>22.3583</td>\n",
       "      <td>F</td>\n",
       "    </tr>\n",
       "  </tbody>\n",
       "</table>\n",
       "<p>1014 rows × 2 columns</p>\n",
       "</div>"
      ],
      "text/plain": [
       "         Fare Deck\n",
       "0      7.2500    G\n",
       "2      7.9250    G\n",
       "4      8.0500    G\n",
       "5      8.4583    G\n",
       "7     21.0750    F\n",
       "...       ...  ...\n",
       "1303   7.7750    G\n",
       "1304   8.0500    G\n",
       "1306   7.2500    G\n",
       "1307   8.0500    G\n",
       "1308  22.3583    F\n",
       "\n",
       "[1014 rows x 2 columns]"
      ]
     },
     "execution_count": 37,
     "metadata": {},
     "output_type": "execute_result"
    }
   ],
   "source": [
    "data_all.loc[indices_U, ['Fare', 'Deck']]"
   ]
  },
  {
   "cell_type": "markdown",
   "execution_count": null,
   "metadata": {
    "papermill": {
     "duration": 0.033374,
     "end_time": "2020-09-01T16:51:45.291240",
     "exception": false,
     "start_time": "2020-09-01T16:51:45.257866",
     "status": "completed"
    },
    "tags": []
   },
   "source": [
    "For the rest of the missing data we apply a simple strategy to fill in the missing data:\n",
    "* **Numeric values**: Use the mean value\n",
    "* **Non-numeric values**: Use the most common value"
   ]
  },
  {
   "cell_type": "code",
   "execution_count": 38,
   "metadata": {
    "execution": {
     "iopub.execute_input": "2020-09-01T16:51:45.369060Z",
     "iopub.status.busy": "2020-09-01T16:51:45.367976Z",
     "iopub.status.idle": "2020-09-01T16:51:45.371343Z",
     "shell.execute_reply": "2020-09-01T16:51:45.370590Z"
    },
    "papermill": {
     "duration": 0.04818,
     "end_time": "2020-09-01T16:51:45.371462",
     "exception": false,
     "start_time": "2020-09-01T16:51:45.323282",
     "status": "completed"
    },
    "tags": []
   },
   "outputs": [],
   "source": [
    "# Define Function for handling missing data\n",
    "\n",
    "def handle_missing_data(data, miss_abs):\n",
    "    \n",
    "    for col in data:\n",
    "        \n",
    "        # identify proportion of missing data\n",
    "        miss_prop = data[col].isna().sum()/len(data) \n",
    "        \n",
    "        # Drop entire column if missing data is more than 50%\n",
    "        #if miss_prop > 0.5:\n",
    "            \n",
    "        #    data.drop(col, axis=1, inplace=True)\n",
    "            \n",
    "            # Report activity\n",
    "        #   print(\"Deleting {} since it is having {:.2f} % of missing rows.\".format(col,miss_prop*100) )\n",
    "        \n",
    "        if  miss_prop < 0.5:\n",
    "            \n",
    "            # Fill missing data with mean value if missing data is numeric\n",
    "            if data[col].dtype == \"float64\" and data[col].isnull().sum() > 0:\n",
    "            \n",
    "                # Calculate mean\n",
    "                mean = data[col].mean()\n",
    "            \n",
    "                # Fill missing data with mean value\n",
    "                data[col] = data[col].fillna(mean)\n",
    "                \n",
    "                # Report activity\n",
    "                print(\"Filling {} missing values in {} with mean value {:.0f}.\".format(miss_abs[col], col, mean) )\n",
    "            \n",
    "            # Fill missing data with most common value if missing data is non-numeric\n",
    "            elif data[col].dtype == \"object\" and data[col].isnull().sum() > 0:\n",
    "                \n",
    "                # Get top value (most common)\n",
    "                top = data[col].describe().top\n",
    "                \n",
    "                # Fill missing data with top value\n",
    "                data[col] = data[col].fillna(top)\n",
    "                \n",
    "                # Report activity\n",
    "                print(\"Filling {} missing values in {} with top value {}.\".format(miss_abs[col], col, top) )\n",
    "            \n",
    "    return data"
   ]
  },
  {
   "cell_type": "code",
   "execution_count": 39,
   "metadata": {
    "execution": {
     "iopub.execute_input": "2020-09-01T16:51:45.461925Z",
     "iopub.status.busy": "2020-09-01T16:51:45.460874Z",
     "iopub.status.idle": "2020-09-01T16:51:45.464557Z",
     "shell.execute_reply": "2020-09-01T16:51:45.465334Z"
    },
    "papermill": {
     "duration": 0.062154,
     "end_time": "2020-09-01T16:51:45.465523",
     "exception": false,
     "start_time": "2020-09-01T16:51:45.403369",
     "status": "completed"
    },
    "tags": []
   },
   "outputs": [
    {
     "name": "stdout",
     "output_type": "stream",
     "text": [
      "train data operations:\n",
      "Filling 2 missing values in Embarked with top value S.\n",
      "test data operations:\n",
      "Filling 1 missing values in Fare with mean value 36.\n"
     ]
    }
   ],
   "source": [
    "#train_data = pd.read_csv(\"/kaggle/input/titanic/train.csv\")\n",
    "\n",
    "\n",
    "for key, dataset in data_dict.items():\n",
    "    \n",
    "    print('{} operations:'.format(key))\n",
    "    \n",
    "    miss_abs = miss_data_dict[key]['{}: missing values (absolut)'.format(key)] \n",
    "    miss_rel = miss_data_dict[key]['{}: missing values (relative in %)'.format(key)]\n",
    "    \n",
    "    data_dict[key] = handle_missing_data(dataset, miss_abs)"
   ]
  },
  {
   "cell_type": "markdown",
   "execution_count": null,
   "metadata": {
    "papermill": {
     "duration": 0.031357,
     "end_time": "2020-09-01T16:51:45.529441",
     "exception": false,
     "start_time": "2020-09-01T16:51:45.498084",
     "status": "completed"
    },
    "tags": []
   },
   "source": [
    "Now there are no missing values left in our dataset:"
   ]
  },
  {
   "cell_type": "code",
   "execution_count": 40,
   "metadata": {
    "execution": {
     "iopub.execute_input": "2020-09-01T16:51:45.600789Z",
     "iopub.status.busy": "2020-09-01T16:51:45.600012Z",
     "iopub.status.idle": "2020-09-01T16:51:45.844065Z",
     "shell.execute_reply": "2020-09-01T16:51:45.843422Z"
    },
    "papermill": {
     "duration": 0.282773,
     "end_time": "2020-09-01T16:51:45.844200",
     "exception": false,
     "start_time": "2020-09-01T16:51:45.561427",
     "status": "completed"
    },
    "tags": []
   },
   "outputs": [
    {
     "name": "stdout",
     "output_type": "stream",
     "text": [
      "<class 'pandas.core.frame.DataFrame'>\n",
      "RangeIndex: 891 entries, 0 to 890\n",
      "Data columns (total 13 columns):\n",
      " #   Column       Non-Null Count  Dtype  \n",
      "---  ------       --------------  -----  \n",
      " 0   PassengerId  891 non-null    int64  \n",
      " 1   Survived     891 non-null    float64\n",
      " 2   Pclass       891 non-null    int64  \n",
      " 3   Name         891 non-null    object \n",
      " 4   Sex          891 non-null    object \n",
      " 5   Age          891 non-null    float64\n",
      " 6   SibSp        891 non-null    int64  \n",
      " 7   Parch        891 non-null    int64  \n",
      " 8   Ticket       891 non-null    object \n",
      " 9   Fare         891 non-null    float64\n",
      " 10  Cabin        891 non-null    object \n",
      " 11  Embarked     891 non-null    object \n",
      " 12  Deck         891 non-null    object \n",
      "dtypes: float64(3), int64(4), object(6)\n",
      "memory usage: 90.6+ KB\n"
     ]
    },
    {
     "data": {
      "image/png": "[encoded data removed]",
      "text/plain": [
       "<Figure size 648x144 with 2 Axes>"
      ]
     },
     "metadata": {
      "needs_background": "light"
     },
     "output_type": "display_data"
    }
   ],
   "source": [
    "msno.matrix(train_data,figsize=(9,2),width_ratios=(10,1))\n",
    "train_data.info()"
   ]
  },
  {
   "cell_type": "code",
   "execution_count": 41,
   "metadata": {
    "execution": {
     "iopub.execute_input": "2020-09-01T16:51:45.915849Z",
     "iopub.status.busy": "2020-09-01T16:51:45.915162Z",
     "iopub.status.idle": "2020-09-01T16:51:46.154972Z",
     "shell.execute_reply": "2020-09-01T16:51:46.154322Z"
    },
    "papermill": {
     "duration": 0.278228,
     "end_time": "2020-09-01T16:51:46.155118",
     "exception": false,
     "start_time": "2020-09-01T16:51:45.876890",
     "status": "completed"
    },
    "tags": []
   },
   "outputs": [
    {
     "name": "stdout",
     "output_type": "stream",
     "text": [
      "<class 'pandas.core.frame.DataFrame'>\n",
      "RangeIndex: 418 entries, 891 to 1308\n",
      "Data columns (total 12 columns):\n",
      " #   Column       Non-Null Count  Dtype  \n",
      "---  ------       --------------  -----  \n",
      " 0   PassengerId  418 non-null    int64  \n",
      " 1   Pclass       418 non-null    int64  \n",
      " 2   Name         418 non-null    object \n",
      " 3   Sex          418 non-null    object \n",
      " 4   Age          418 non-null    float64\n",
      " 5   SibSp        418 non-null    int64  \n",
      " 6   Parch        418 non-null    int64  \n",
      " 7   Ticket       418 non-null    object \n",
      " 8   Fare         418 non-null    float64\n",
      " 9   Cabin        418 non-null    object \n",
      " 10  Embarked     418 non-null    object \n",
      " 11  Deck         418 non-null    object \n",
      "dtypes: float64(2), int64(4), object(6)\n",
      "memory usage: 39.3+ KB\n"
     ]
    },
    {
     "data": {
      "image/png": "[encoded data removed]",
      "text/plain": [
       "<Figure size 648x144 with 2 Axes>"
      ]
     },
     "metadata": {
      "needs_background": "light"
     },
     "output_type": "display_data"
    }
   ],
   "source": [
    "msno.matrix(test_data,figsize=(9,2),width_ratios=(10,1))\n",
    "test_data.info()"
   ]
  },
  {
   "cell_type": "markdown",
   "execution_count": null,
   "metadata": {
    "papermill": {
     "duration": 0.03276,
     "end_time": "2020-09-01T16:51:46.220921",
     "exception": false,
     "start_time": "2020-09-01T16:51:46.188161",
     "status": "completed"
    },
    "tags": []
   },
   "source": [
    "# Enhance existing features and engineer new features\n",
    "Feature engineering is \"*the process of using domain knowledge to extract features from raw data via data mining techniques*\" ([Wikipedia](https://en.wikipedia.org/wiki/Feature_engineering)).\n",
    "<br>\n",
    "In other words, with feature engineering we create the \"**essence**\" from which our machine learning algorithms will learn from later on in the training process and consequently influence the accuracy of our model predictions. Therefore, feature engineering is a crucial step in the machine learning workflow and also an creative art that will seperate good from bad models.\n",
    "<br>\n",
    "The Titanic dataset offers a lot of exicting possibilities for feature engineering to play around with, especially since there are a lot of historical records and side information available on the Internet (this is our so called \"domain knowledge\" in the Data Science, Machine Learning context). You can find a huge huge body of creative Notebooks showing the full range of possible methods. In the following I tried out some of them and also combined different approaches. \n",
    "<br>\n",
    "The following Notebooks were my primary source of inspiration:\n",
    "* [Kaggl Titanic: A Machine Learning from Disaster | Feature Eng. Part 1](https://www.codementor.io/@innat_2k14/titanic-kaggle-machine-learning-from-disaster-part-1-10gbvqzguc)\n",
    "* [Machine Learning with the Titanic Dataset](https://towardsdatascience.com/machine-learning-with-the-titanic-dataset-7f6909e58280)\n",
    "* [Titanic Dataset - Zero to Hero (within Top 3%)](https://www.kaggle.com/darkknight98/titanic-dataset-zero-to-hero-within-top-3)\n",
    "* [Predicting the Survival of Titanic Passengers](https://towardsdatascience.com/predicting-the-survival-of-titanic-passengers-30870ccc7e8)\n",
    "\n",
    "<br>\n",
    "\n"
   ]
  },
  {
   "cell_type": "markdown",
   "execution_count": null,
   "metadata": {
    "papermill": {
     "duration": 0.033178,
     "end_time": "2020-09-01T16:51:46.287301",
     "exception": false,
     "start_time": "2020-09-01T16:51:46.254123",
     "status": "completed"
    },
    "tags": []
   },
   "source": [
    "**Extract \"Title\"**\n",
    "<br>\n",
    "The title of a passenger can be used as a proxy for socio-economic status and hence correlates with the chances of survival of a person. We can find the title information in the \"Name\" column of our dataset and extract the relevant pieces of information with \"split\" (we make use of the fact that in every name string there is a '**,**' before and a '**.**' after the title information ;-)).\n"
   ]
  },
  {
   "cell_type": "code",
   "execution_count": 42,
   "metadata": {
    "execution": {
     "iopub.execute_input": "2020-09-01T16:51:46.372360Z",
     "iopub.status.busy": "2020-09-01T16:51:46.371399Z",
     "iopub.status.idle": "2020-09-01T16:51:46.375353Z",
     "shell.execute_reply": "2020-09-01T16:51:46.375879Z"
    },
    "papermill": {
     "duration": 0.05558,
     "end_time": "2020-09-01T16:51:46.376052",
     "exception": false,
     "start_time": "2020-09-01T16:51:46.320472",
     "status": "completed"
    },
    "tags": []
   },
   "outputs": [
    {
     "data": {
      "text/plain": [
       "0            Mr\n",
       "1           Mrs\n",
       "2          Miss\n",
       "3           Mrs\n",
       "4            Mr\n",
       "         ...   \n",
       "1304         Mr\n",
       "1305       Dona\n",
       "1306         Mr\n",
       "1307         Mr\n",
       "1308     Master\n",
       "Name: 0, Length: 1309, dtype: object"
      ]
     },
     "execution_count": 42,
     "metadata": {},
     "output_type": "execute_result"
    }
   ],
   "source": [
    "# Accessing title data from 'Name' column\n",
    "data_all['Name'].str.split(',', expand=True)[1].str.split('.', expand=True)[0]"
   ]
  },
  {
   "cell_type": "code",
   "execution_count": 43,
   "metadata": {
    "execution": {
     "iopub.execute_input": "2020-09-01T16:51:46.449989Z",
     "iopub.status.busy": "2020-09-01T16:51:46.449297Z",
     "iopub.status.idle": "2020-09-01T16:51:46.452552Z",
     "shell.execute_reply": "2020-09-01T16:51:46.451931Z"
    },
    "papermill": {
     "duration": 0.043433,
     "end_time": "2020-09-01T16:51:46.452672",
     "exception": false,
     "start_time": "2020-09-01T16:51:46.409239",
     "status": "completed"
    },
    "tags": []
   },
   "outputs": [],
   "source": [
    "# Define a function for extracting the title\n",
    "def title_extract(data):\n",
    "    \n",
    "    data['Title'] = data['Name'].str.split(',', expand=True)[1].str.split('.', expand=True)[0]"
   ]
  },
  {
   "cell_type": "code",
   "execution_count": 44,
   "metadata": {
    "execution": {
     "iopub.execute_input": "2020-09-01T16:51:46.539997Z",
     "iopub.status.busy": "2020-09-01T16:51:46.538880Z",
     "iopub.status.idle": "2020-09-01T16:51:46.555796Z",
     "shell.execute_reply": "2020-09-01T16:51:46.555146Z"
    },
    "papermill": {
     "duration": 0.069822,
     "end_time": "2020-09-01T16:51:46.555914",
     "exception": false,
     "start_time": "2020-09-01T16:51:46.486092",
     "status": "completed"
    },
    "tags": []
   },
   "outputs": [
    {
     "data": {
      "text/plain": [
       " Mr              757\n",
       " Miss            260\n",
       " Mrs             197\n",
       " Master           61\n",
       " Rev               8\n",
       " Dr                8\n",
       " Col               4\n",
       " Ms                2\n",
       " Mlle              2\n",
       " Major             2\n",
       " Capt              1\n",
       " Mme               1\n",
       " Sir               1\n",
       " Lady              1\n",
       " Jonkheer          1\n",
       " Don               1\n",
       " Dona              1\n",
       " the Countess      1\n",
       "Name: Title, dtype: int64"
      ]
     },
     "execution_count": 44,
     "metadata": {},
     "output_type": "execute_result"
    }
   ],
   "source": [
    "# Apply title extraction function to the dataset\n",
    "for key, dataset in data_dict.items():\n",
    "    title = title_extract(dataset)\n",
    "    \n",
    "data_all = concat_data(train_data, test_data)\n",
    "\n",
    "# Display title value count within training data\n",
    "data_all['Title'].value_counts()"
   ]
  },
  {
   "cell_type": "markdown",
   "execution_count": null,
   "metadata": {
    "papermill": {
     "duration": 0.03308,
     "end_time": "2020-09-01T16:51:46.622554",
     "exception": false,
     "start_time": "2020-09-01T16:51:46.589474",
     "status": "completed"
    },
    "tags": []
   },
   "source": [
    "**Mapping table**\n",
    "<br>\n",
    "In the table above we see the title distribution across the entire dataset.\n",
    "<br>\n",
    "From the title we can deduct information about gender (\"Mr\", \"Miss\", \"Mrs\", \"Mme\" etc.), martial status (\"Miss\", \"Ms\" etc.) and education / profession (e.g. social-economic status, \"Master\", \"Dr\", \"Major\" etc.). \n",
    "<br>\n",
    "We can observe that the majority of titles in the dataset are \"Mr\", \"Miss\", \"Mrs\" and \"Master\" and therefore proceed with the following title bins:\n",
    "\n",
    "* **Mr**\n",
    "* **Mrs**\n",
    "* **Miss**\n",
    "* **Master**\n",
    "* **Misc** (if title count is < 10)"
   ]
  },
  {
   "cell_type": "code",
   "execution_count": 45,
   "metadata": {
    "execution": {
     "iopub.execute_input": "2020-09-01T16:51:46.714188Z",
     "iopub.status.busy": "2020-09-01T16:51:46.709153Z",
     "iopub.status.idle": "2020-09-01T16:51:46.763962Z",
     "shell.execute_reply": "2020-09-01T16:51:46.762832Z"
    },
    "papermill": {
     "duration": 0.108258,
     "end_time": "2020-09-01T16:51:46.764166",
     "exception": false,
     "start_time": "2020-09-01T16:51:46.655908",
     "status": "completed"
    },
    "tags": []
   },
   "outputs": [
    {
     "name": "stdout",
     "output_type": "stream",
     "text": [
      " Mr        757\n",
      " Miss      260\n",
      " Mrs       197\n",
      " Master     61\n",
      "Misc        34\n",
      "Name: Title, dtype: int64\n"
     ]
    }
   ],
   "source": [
    "# Assess (in full dataset) whether a title is rare (True if rare)\n",
    "title_names = (data_all['Title'].value_counts() <  10)\n",
    "\n",
    "for key, dataset in data_dict.items():\n",
    "\n",
    "    # Replace titles with 'Misc' if they are rare (= value in title_names = True)\n",
    "    ## Code from: https://www.kaggle.com/ldfreeman3/a-data-science-framework-to-achieve-99-accuracy\n",
    "    dataset['Title'] = dataset['Title'].apply(lambda x: 'Misc' if title_names.loc[x] == True else x)\n",
    "\n",
    "data_all = concat_data(train_data, test_data)\n",
    "\n",
    "print(data_all['Title'].value_counts())"
   ]
  },
  {
   "cell_type": "markdown",
   "execution_count": null,
   "metadata": {
    "papermill": {
     "duration": 0.033359,
     "end_time": "2020-09-01T16:51:46.831794",
     "exception": false,
     "start_time": "2020-09-01T16:51:46.798435",
     "status": "completed"
    },
    "tags": []
   },
   "source": [
    "**Data binning for feature \"Age\"**\n",
    "\n",
    "**Data binning or bucketing** means that we split up the original data into smaller chunks known as bins. The values within each bin are then replaced by a general value calculated for each bin, e.g. we change the original continous data values to discrete bins (in this case: age intervals).\n",
    "<br>\n",
    "This process minimizes the effects of small observation errors, outliers and \"smoothes\" the data. \n",
    "<br>\n",
    "There are different approaches for creating the bins. We can either directly define them or we can use the Pandas method \"[cut](https://pandas.pydata.org/pandas-docs/stable/reference/api/pandas.cut.html)\" to define the bins based on the value range of the data."
   ]
  },
  {
   "cell_type": "code",
   "execution_count": 46,
   "metadata": {
    "execution": {
     "iopub.execute_input": "2020-09-01T16:51:46.905968Z",
     "iopub.status.busy": "2020-09-01T16:51:46.905140Z",
     "iopub.status.idle": "2020-09-01T16:51:46.909609Z",
     "shell.execute_reply": "2020-09-01T16:51:46.908866Z"
    },
    "papermill": {
     "duration": 0.044296,
     "end_time": "2020-09-01T16:51:46.909726",
     "exception": false,
     "start_time": "2020-09-01T16:51:46.865430",
     "status": "completed"
    },
    "tags": []
   },
   "outputs": [
    {
     "name": "stdout",
     "output_type": "stream",
     "text": [
      "Maximum age in train & test data:  80.0\n",
      "Minimum age in train & test data:  0.17\n"
     ]
    }
   ],
   "source": [
    "print('Maximum age in train & test data: ', data_all['Age'].max() )\n",
    "print('Minimum age in train & test data: ', data_all['Age'].min() )"
   ]
  },
  {
   "cell_type": "markdown",
   "execution_count": null,
   "metadata": {
    "papermill": {
     "duration": 0.033344,
     "end_time": "2020-09-01T16:51:46.976966",
     "exception": false,
     "start_time": "2020-09-01T16:51:46.943622",
     "status": "completed"
    },
    "tags": []
   },
   "source": [
    "We specify 5 as the number of equal-sized intervals within the range of \"Age\". This creates 5 bins with an equal size of 16 years from the age range of the dataset (0 - 80 years).\n",
    "<br>\n",
    "Instead of creating an interval with explicit numbers, we can also map the age data directly to a numerical category (see column \"Age group\"). For better interpretation, we keep the \"Age interval\" column in the dataset."
   ]
  },
  {
   "cell_type": "code",
   "execution_count": 47,
   "metadata": {
    "execution": {
     "iopub.execute_input": "2020-09-01T16:51:47.064272Z",
     "iopub.status.busy": "2020-09-01T16:51:47.063458Z",
     "iopub.status.idle": "2020-09-01T16:51:47.099980Z",
     "shell.execute_reply": "2020-09-01T16:51:47.099048Z"
    },
    "papermill": {
     "duration": 0.089497,
     "end_time": "2020-09-01T16:51:47.100167",
     "exception": false,
     "start_time": "2020-09-01T16:51:47.010670",
     "status": "completed"
    },
    "tags": []
   },
   "outputs": [
    {
     "name": "stdout",
     "output_type": "stream",
     "text": [
      "Number of cases within age intervals in datast:\n"
     ]
    },
    {
     "data": {
      "text/plain": [
       "(16.0, 32.0]     752\n",
       "(32.0, 48.0]     304\n",
       "(-0.08, 16.0]    134\n",
       "(48.0, 64.0]     106\n",
       "(64.0, 80.0]      13\n",
       "Name: Age interval, dtype: int64"
      ]
     },
     "execution_count": 47,
     "metadata": {},
     "output_type": "execute_result"
    }
   ],
   "source": [
    "for key, dataset in data_dict.items():\n",
    "    \n",
    "    # Convert age data to integer\n",
    "    dataset['Age'] = dataset['Age'].astype('int', copy=True)\n",
    "    \n",
    "    # Define labels for age group\n",
    "    age_labels = [1,2,3,4,5]\n",
    "    \n",
    "    ## Split the data into 5 chunks of equals size within the range of Age \n",
    "    ## (entire dataset as basis!)\n",
    "    \n",
    "    # Intervals:\n",
    "    dataset['Age interval'] = pd.cut(data_all['Age'].astype('int'),5)\n",
    "    \n",
    "    # Label intervals with number (integers):\n",
    "    dataset['Age Code']     = pd.cut(data_all['Age'],5, labels=age_labels).astype('int64')\n",
    "    \n",
    "data_all = concat_data(train_data, test_data)\n",
    "    \n",
    "print('Number of cases within age intervals in datast:')\n",
    "data_all['Age interval'].value_counts()"
   ]
  },
  {
   "cell_type": "markdown",
   "execution_count": null,
   "metadata": {
    "papermill": {
     "duration": 0.033761,
     "end_time": "2020-09-01T16:51:47.168343",
     "exception": false,
     "start_time": "2020-09-01T16:51:47.134582",
     "status": "completed"
    },
    "tags": []
   },
   "source": [
    "**Data Binning for feature \"Fare\"**\n",
    "<br>\n",
    "For the feature \"Fare\" we use the Pandas method \"[qcut](https://pandas.pydata.org/pandas-docs/stable/reference/api/pandas.qcut.html)\" which splits a distribution into categories with the same number of cases (e.g. quantile-based discretization function) - in contrast to \"cut\" which creates equal-sized bins based on the range of the variable."
   ]
  },
  {
   "cell_type": "code",
   "execution_count": 48,
   "metadata": {
    "execution": {
     "iopub.execute_input": "2020-09-01T16:51:47.249457Z",
     "iopub.status.busy": "2020-09-01T16:51:47.247080Z",
     "iopub.status.idle": "2020-09-01T16:51:47.286673Z",
     "shell.execute_reply": "2020-09-01T16:51:47.285990Z"
    },
    "papermill": {
     "duration": 0.08392,
     "end_time": "2020-09-01T16:51:47.286797",
     "exception": false,
     "start_time": "2020-09-01T16:51:47.202877",
     "status": "completed"
    },
    "tags": []
   },
   "outputs": [
    {
     "name": "stdout",
     "output_type": "stream",
     "text": [
      "Number of cases per fare category in dataset (approx. equal):\n"
     ]
    },
    {
     "data": {
      "text/plain": [
       "(-0.001, 7.854]      275\n",
       "(21.679, 41.579]     263\n",
       "(41.579, 512.329]    259\n",
       "(10.5, 21.679]       258\n",
       "(7.854, 10.5]        254\n",
       "Name: Fare interval, dtype: int64"
      ]
     },
     "execution_count": 48,
     "metadata": {},
     "output_type": "execute_result"
    }
   ],
   "source": [
    "for key, dataset in data_dict.items():\n",
    "    \n",
    "    # Define labels for age group\n",
    "    fare_labels = [1,2,3,4,5]\n",
    "    \n",
    "    ## Split the data into 5 chunks of equals number of values \n",
    "    ## (entire dataset as basis!):\n",
    "    \n",
    "    # Intervals:\n",
    "    dataset['Fare interval'] = pd.qcut( data_all['Fare'], 5 )\n",
    "    \n",
    "    # Label intervals with number (integers):\n",
    "    dataset['Fare Code'] = pd.qcut( data_all['Fare'], 5, labels=fare_labels).astype('int64')\n",
    "\n",
    "data_all = concat_data(train_data, test_data)\n",
    "\n",
    "print('Number of cases per fare category in dataset (approx. equal):')\n",
    "data_all['Fare interval'].value_counts()"
   ]
  },
  {
   "cell_type": "markdown",
   "execution_count": null,
   "metadata": {
    "papermill": {
     "duration": 0.033533,
     "end_time": "2020-09-01T16:51:47.354724",
     "exception": false,
     "start_time": "2020-09-01T16:51:47.321191",
     "status": "completed"
    },
    "tags": []
   },
   "source": [
    "**Create new feature \"family size\"**\n",
    "<br>\n",
    "\"**SibSp**\" defines the number of siblings and spouses, \"**Parch**\" includes the number of parents and childrens of a passenger abord the Titanic. Like in many other \"Titanic\" notebooks we summarize this information into the variable \"Family Size\" which includes +1 for the passenger."
   ]
  },
  {
   "cell_type": "code",
   "execution_count": 49,
   "metadata": {
    "execution": {
     "iopub.execute_input": "2020-09-01T16:51:47.435366Z",
     "iopub.status.busy": "2020-09-01T16:51:47.434292Z",
     "iopub.status.idle": "2020-09-01T16:51:47.455458Z",
     "shell.execute_reply": "2020-09-01T16:51:47.454529Z"
    },
    "papermill": {
     "duration": 0.067006,
     "end_time": "2020-09-01T16:51:47.455627",
     "exception": false,
     "start_time": "2020-09-01T16:51:47.388621",
     "status": "completed"
    },
    "tags": []
   },
   "outputs": [],
   "source": [
    "for key, dataset in data_dict.items():\n",
    "    \n",
    "    dataset['Family Size'] = dataset ['SibSp'] + dataset['Parch'] + 1                                                                \n",
    "\n",
    "data_all = concat_data(train_data, test_data)"
   ]
  },
  {
   "cell_type": "code",
   "execution_count": 50,
   "metadata": {
    "execution": {
     "iopub.execute_input": "2020-09-01T16:51:47.562402Z",
     "iopub.status.busy": "2020-09-01T16:51:47.561615Z",
     "iopub.status.idle": "2020-09-01T16:51:47.746556Z",
     "shell.execute_reply": "2020-09-01T16:51:47.747103Z"
    },
    "papermill": {
     "duration": 0.239925,
     "end_time": "2020-09-01T16:51:47.747267",
     "exception": false,
     "start_time": "2020-09-01T16:51:47.507342",
     "status": "completed"
    },
    "tags": []
   },
   "outputs": [
    {
     "data": {
      "text/plain": [
       "1     790\n",
       "2     235\n",
       "3     159\n",
       "4      43\n",
       "6      25\n",
       "5      22\n",
       "7      16\n",
       "11     11\n",
       "8       8\n",
       "Name: Family Size, dtype: int64"
      ]
     },
     "execution_count": 50,
     "metadata": {},
     "output_type": "execute_result"
    },
    {
     "data": {
      "image/png": "[encoded data removed]",
      "text/plain": [
       "<Figure size 720x216 with 1 Axes>"
      ]
     },
     "metadata": {
      "needs_background": "light"
     },
     "output_type": "display_data"
    }
   ],
   "source": [
    "max_family = dataset['Family Size'].max()\n",
    "min_family = dataset['Family Size'].min()\n",
    "\n",
    "x = data_all['Family Size'].hist(bins=max_family-1, grid=False, figsize=(10,3),  zorder=2, rwidth=0.9);\n",
    "\n",
    "ax = plt.suptitle('Distribution of Family Size onboard the Titanic');\n",
    "data_all['Family Size'].value_counts()"
   ]
  },
  {
   "cell_type": "code",
   "execution_count": 51,
   "metadata": {
    "execution": {
     "iopub.execute_input": "2020-09-01T16:51:47.828307Z",
     "iopub.status.busy": "2020-09-01T16:51:47.827547Z",
     "iopub.status.idle": "2020-09-01T16:51:47.847645Z",
     "shell.execute_reply": "2020-09-01T16:51:47.848265Z"
    },
    "papermill": {
     "duration": 0.066716,
     "end_time": "2020-09-01T16:51:47.848422",
     "exception": false,
     "start_time": "2020-09-01T16:51:47.781706",
     "status": "completed"
    },
    "tags": []
   },
   "outputs": [
    {
     "data": {
      "text/plain": [
       "1    790\n",
       "2    235\n",
       "3    202\n",
       "4     82\n",
       "Name: Family Size Code, dtype: int64"
      ]
     },
     "execution_count": 51,
     "metadata": {},
     "output_type": "execute_result"
    }
   ],
   "source": [
    "# Define family size mapping via lambda function\n",
    "family_mapping = (lambda s: 1 if s == 1 else (2 if s == 2 else (3 if 3 <= s <= 4 else (4 if s >= 5 else 0))))\n",
    "\n",
    "for key, dataset in data_dict.items():\n",
    "    \n",
    "    dataset['Family Size Code'] = dataset['Family Size'].map(family_mapping)\n",
    "    \n",
    "# data_all['Family Size categories'] = data_all['Family Size'].map(family_mapping)\n",
    "data_all = concat_data(train_data, test_data)\n",
    "data_all['Family Size Code'].value_counts()"
   ]
  },
  {
   "cell_type": "code",
   "execution_count": 52,
   "metadata": {
    "execution": {
     "iopub.execute_input": "2020-09-01T16:51:47.930813Z",
     "iopub.status.busy": "2020-09-01T16:51:47.925784Z",
     "iopub.status.idle": "2020-09-01T16:51:48.079512Z",
     "shell.execute_reply": "2020-09-01T16:51:48.078749Z"
    },
    "papermill": {
     "duration": 0.196445,
     "end_time": "2020-09-01T16:51:48.079635",
     "exception": false,
     "start_time": "2020-09-01T16:51:47.883190",
     "status": "completed"
    },
    "tags": []
   },
   "outputs": [
    {
     "data": {
      "image/png": "[encoded data removed]",
      "text/plain": [
       "<Figure size 720x216 with 1 Axes>"
      ]
     },
     "metadata": {
      "needs_background": "light"
     },
     "output_type": "display_data"
    }
   ],
   "source": [
    "data_all[ ['Family Size Code', 'Survived'] ].groupby('Family Size Code')['Survived'].mean().plot(kind='bar', figsize=(10,3))\n",
    "ax = plt.suptitle('Survival rates in relation to family size:');"
   ]
  },
  {
   "cell_type": "markdown",
   "execution_count": null,
   "metadata": {
    "papermill": {
     "duration": 0.034456,
     "end_time": "2020-09-01T16:51:48.149202",
     "exception": false,
     "start_time": "2020-09-01T16:51:48.114746",
     "status": "completed"
    },
    "tags": []
   },
   "source": [
    "**Create new feature 'Mother'**\n",
    "<br>\n",
    "We create the new feature 'Mother* which is defined by the following criteria: Women with 'Mrs' title and at least 1 parch."
   ]
  },
  {
   "cell_type": "code",
   "execution_count": 53,
   "metadata": {
    "execution": {
     "iopub.execute_input": "2020-09-01T16:51:48.241485Z",
     "iopub.status.busy": "2020-09-01T16:51:48.229389Z",
     "iopub.status.idle": "2020-09-01T16:51:48.246911Z",
     "shell.execute_reply": "2020-09-01T16:51:48.246200Z"
    },
    "papermill": {
     "duration": 0.062985,
     "end_time": "2020-09-01T16:51:48.247057",
     "exception": false,
     "start_time": "2020-09-01T16:51:48.184072",
     "status": "completed"
    },
    "tags": []
   },
   "outputs": [],
   "source": [
    "for key, dataset in data_dict.items():\n",
    "    \n",
    "    dataset['Mother'] = np.where((dataset.Title == 'Mrs') & (dataset.Parch >0),1,0)    \n",
    "\n",
    "data_all = concat_data(train_data, test_data)"
   ]
  },
  {
   "cell_type": "markdown",
   "execution_count": null,
   "metadata": {
    "papermill": {
     "duration": 0.034724,
     "end_time": "2020-09-01T16:51:48.326481",
     "exception": false,
     "start_time": "2020-09-01T16:51:48.291757",
     "status": "completed"
    },
    "tags": []
   },
   "source": [
    "**Create new feature 'Ticket frequency'**\n",
    "<br>\n",
    "Let's filter for identical ticket numbers to get an indication who travelled together and create a new feature from this."
   ]
  },
  {
   "cell_type": "code",
   "execution_count": 54,
   "metadata": {
    "execution": {
     "iopub.execute_input": "2020-09-01T16:51:48.403035Z",
     "iopub.status.busy": "2020-09-01T16:51:48.402246Z",
     "iopub.status.idle": "2020-09-01T16:51:48.426290Z",
     "shell.execute_reply": "2020-09-01T16:51:48.425528Z"
    },
    "papermill": {
     "duration": 0.064955,
     "end_time": "2020-09-01T16:51:48.426425",
     "exception": false,
     "start_time": "2020-09-01T16:51:48.361470",
     "status": "completed"
    },
    "tags": []
   },
   "outputs": [],
   "source": [
    "for key, dataset in data_dict.items():\n",
    "\n",
    "    dataset['Ticket Frequency'] = data_all.groupby('Ticket')['Ticket'].transform('count')\n",
    "    \n",
    "data_all = concat_data(train_data, test_data)"
   ]
  },
  {
   "cell_type": "code",
   "execution_count": 55,
   "metadata": {
    "execution": {
     "iopub.execute_input": "2020-09-01T16:51:48.507259Z",
     "iopub.status.busy": "2020-09-01T16:51:48.506165Z",
     "iopub.status.idle": "2020-09-01T16:51:48.535222Z",
     "shell.execute_reply": "2020-09-01T16:51:48.534457Z"
    },
    "papermill": {
     "duration": 0.07359,
     "end_time": "2020-09-01T16:51:48.535350",
     "exception": false,
     "start_time": "2020-09-01T16:51:48.461760",
     "status": "completed"
    },
    "tags": []
   },
   "outputs": [
    {
     "data": {
      "text/html": [
       "<div>\n",
       "<style scoped>\n",
       "    .dataframe tbody tr th:only-of-type {\n",
       "        vertical-align: middle;\n",
       "    }\n",
       "\n",
       "    .dataframe tbody tr th {\n",
       "        vertical-align: top;\n",
       "    }\n",
       "\n",
       "    .dataframe thead th {\n",
       "        text-align: right;\n",
       "    }\n",
       "</style>\n",
       "<table border=\"1\" class=\"dataframe\">\n",
       "  <thead>\n",
       "    <tr style=\"text-align: right;\">\n",
       "      <th></th>\n",
       "      <th>PassengerId</th>\n",
       "      <th>Survived</th>\n",
       "      <th>Pclass</th>\n",
       "      <th>Name</th>\n",
       "      <th>Sex</th>\n",
       "      <th>Age</th>\n",
       "      <th>SibSp</th>\n",
       "      <th>Parch</th>\n",
       "      <th>Ticket</th>\n",
       "      <th>Fare</th>\n",
       "      <th>...</th>\n",
       "      <th>Deck</th>\n",
       "      <th>Title</th>\n",
       "      <th>Age interval</th>\n",
       "      <th>Age Code</th>\n",
       "      <th>Fare interval</th>\n",
       "      <th>Fare Code</th>\n",
       "      <th>Family Size</th>\n",
       "      <th>Family Size Code</th>\n",
       "      <th>Mother</th>\n",
       "      <th>Ticket Frequency</th>\n",
       "    </tr>\n",
       "  </thead>\n",
       "  <tbody>\n",
       "    <tr>\n",
       "      <th>0</th>\n",
       "      <td>1</td>\n",
       "      <td>0.0</td>\n",
       "      <td>3</td>\n",
       "      <td>Braund, Mr. Owen Harris</td>\n",
       "      <td>male</td>\n",
       "      <td>22</td>\n",
       "      <td>1</td>\n",
       "      <td>0</td>\n",
       "      <td>A/5 21171</td>\n",
       "      <td>7.2500</td>\n",
       "      <td>...</td>\n",
       "      <td>G</td>\n",
       "      <td>Mr</td>\n",
       "      <td>(16.0, 32.0]</td>\n",
       "      <td>2</td>\n",
       "      <td>(-0.001, 7.854]</td>\n",
       "      <td>1</td>\n",
       "      <td>2</td>\n",
       "      <td>2</td>\n",
       "      <td>0</td>\n",
       "      <td>1</td>\n",
       "    </tr>\n",
       "    <tr>\n",
       "      <th>1</th>\n",
       "      <td>2</td>\n",
       "      <td>1.0</td>\n",
       "      <td>1</td>\n",
       "      <td>Cumings, Mrs. John Bradley (Florence Briggs Th...</td>\n",
       "      <td>female</td>\n",
       "      <td>38</td>\n",
       "      <td>1</td>\n",
       "      <td>0</td>\n",
       "      <td>PC 17599</td>\n",
       "      <td>71.2833</td>\n",
       "      <td>...</td>\n",
       "      <td>C</td>\n",
       "      <td>Mrs</td>\n",
       "      <td>(32.0, 48.0]</td>\n",
       "      <td>3</td>\n",
       "      <td>(41.579, 512.329]</td>\n",
       "      <td>5</td>\n",
       "      <td>2</td>\n",
       "      <td>2</td>\n",
       "      <td>0</td>\n",
       "      <td>2</td>\n",
       "    </tr>\n",
       "    <tr>\n",
       "      <th>2</th>\n",
       "      <td>3</td>\n",
       "      <td>1.0</td>\n",
       "      <td>3</td>\n",
       "      <td>Heikkinen, Miss. Laina</td>\n",
       "      <td>female</td>\n",
       "      <td>26</td>\n",
       "      <td>0</td>\n",
       "      <td>0</td>\n",
       "      <td>STON/O2. 3101282</td>\n",
       "      <td>7.9250</td>\n",
       "      <td>...</td>\n",
       "      <td>G</td>\n",
       "      <td>Miss</td>\n",
       "      <td>(16.0, 32.0]</td>\n",
       "      <td>2</td>\n",
       "      <td>(7.854, 10.5]</td>\n",
       "      <td>2</td>\n",
       "      <td>1</td>\n",
       "      <td>1</td>\n",
       "      <td>0</td>\n",
       "      <td>1</td>\n",
       "    </tr>\n",
       "    <tr>\n",
       "      <th>3</th>\n",
       "      <td>4</td>\n",
       "      <td>1.0</td>\n",
       "      <td>1</td>\n",
       "      <td>Futrelle, Mrs. Jacques Heath (Lily May Peel)</td>\n",
       "      <td>female</td>\n",
       "      <td>35</td>\n",
       "      <td>1</td>\n",
       "      <td>0</td>\n",
       "      <td>113803</td>\n",
       "      <td>53.1000</td>\n",
       "      <td>...</td>\n",
       "      <td>C</td>\n",
       "      <td>Mrs</td>\n",
       "      <td>(32.0, 48.0]</td>\n",
       "      <td>3</td>\n",
       "      <td>(41.579, 512.329]</td>\n",
       "      <td>5</td>\n",
       "      <td>2</td>\n",
       "      <td>2</td>\n",
       "      <td>0</td>\n",
       "      <td>2</td>\n",
       "    </tr>\n",
       "    <tr>\n",
       "      <th>4</th>\n",
       "      <td>5</td>\n",
       "      <td>0.0</td>\n",
       "      <td>3</td>\n",
       "      <td>Allen, Mr. William Henry</td>\n",
       "      <td>male</td>\n",
       "      <td>35</td>\n",
       "      <td>0</td>\n",
       "      <td>0</td>\n",
       "      <td>373450</td>\n",
       "      <td>8.0500</td>\n",
       "      <td>...</td>\n",
       "      <td>G</td>\n",
       "      <td>Mr</td>\n",
       "      <td>(32.0, 48.0]</td>\n",
       "      <td>3</td>\n",
       "      <td>(7.854, 10.5]</td>\n",
       "      <td>2</td>\n",
       "      <td>1</td>\n",
       "      <td>1</td>\n",
       "      <td>0</td>\n",
       "      <td>1</td>\n",
       "    </tr>\n",
       "  </tbody>\n",
       "</table>\n",
       "<p>5 rows × 22 columns</p>\n",
       "</div>"
      ],
      "text/plain": [
       "   PassengerId  Survived  Pclass  \\\n",
       "0            1       0.0       3   \n",
       "1            2       1.0       1   \n",
       "2            3       1.0       3   \n",
       "3            4       1.0       1   \n",
       "4            5       0.0       3   \n",
       "\n",
       "                                                Name     Sex  Age  SibSp  \\\n",
       "0                            Braund, Mr. Owen Harris    male   22      1   \n",
       "1  Cumings, Mrs. John Bradley (Florence Briggs Th...  female   38      1   \n",
       "2                             Heikkinen, Miss. Laina  female   26      0   \n",
       "3       Futrelle, Mrs. Jacques Heath (Lily May Peel)  female   35      1   \n",
       "4                           Allen, Mr. William Henry    male   35      0   \n",
       "\n",
       "   Parch            Ticket     Fare  ... Deck  Title  Age interval Age Code  \\\n",
       "0      0         A/5 21171   7.2500  ...    G     Mr  (16.0, 32.0]        2   \n",
       "1      0          PC 17599  71.2833  ...    C    Mrs  (32.0, 48.0]        3   \n",
       "2      0  STON/O2. 3101282   7.9250  ...    G   Miss  (16.0, 32.0]        2   \n",
       "3      0            113803  53.1000  ...    C    Mrs  (32.0, 48.0]        3   \n",
       "4      0            373450   8.0500  ...    G     Mr  (32.0, 48.0]        3   \n",
       "\n",
       "       Fare interval  Fare Code Family Size  Family Size Code  Mother  \\\n",
       "0    (-0.001, 7.854]          1           2                 2       0   \n",
       "1  (41.579, 512.329]          5           2                 2       0   \n",
       "2      (7.854, 10.5]          2           1                 1       0   \n",
       "3  (41.579, 512.329]          5           2                 2       0   \n",
       "4      (7.854, 10.5]          2           1                 1       0   \n",
       "\n",
       "   Ticket Frequency  \n",
       "0                 1  \n",
       "1                 2  \n",
       "2                 1  \n",
       "3                 2  \n",
       "4                 1  \n",
       "\n",
       "[5 rows x 22 columns]"
      ]
     },
     "execution_count": 55,
     "metadata": {},
     "output_type": "execute_result"
    }
   ],
   "source": [
    "train_data.head()"
   ]
  },
  {
   "cell_type": "markdown",
   "execution_count": null,
   "metadata": {
    "papermill": {
     "duration": 0.08375,
     "end_time": "2020-09-01T16:51:48.655386",
     "exception": false,
     "start_time": "2020-09-01T16:51:48.571636",
     "status": "completed"
    },
    "tags": []
   },
   "source": [
    "# Apply a Machine Learnng model\n",
    "Let's collect the features we want to use for the model:"
   ]
  },
  {
   "cell_type": "code",
   "execution_count": 56,
   "metadata": {
    "execution": {
     "iopub.execute_input": "2020-09-01T16:51:48.758220Z",
     "iopub.status.busy": "2020-09-01T16:51:48.736687Z",
     "iopub.status.idle": "2020-09-01T16:51:48.764215Z",
     "shell.execute_reply": "2020-09-01T16:51:48.763472Z"
    },
    "papermill": {
     "duration": 0.072856,
     "end_time": "2020-09-01T16:51:48.764335",
     "exception": false,
     "start_time": "2020-09-01T16:51:48.691479",
     "status": "completed"
    },
    "tags": []
   },
   "outputs": [
    {
     "name": "stdout",
     "output_type": "stream",
     "text": [
      "<class 'pandas.core.frame.DataFrame'>\n",
      "RangeIndex: 1309 entries, 0 to 1308\n",
      "Data columns (total 13 columns):\n",
      " #   Column            Non-Null Count  Dtype  \n",
      "---  ------            --------------  -----  \n",
      " 0   Sex               1309 non-null   object \n",
      " 1   Age Code          1309 non-null   int64  \n",
      " 2   SibSp             1309 non-null   int64  \n",
      " 3   Parch             1309 non-null   int64  \n",
      " 4   Mother            1309 non-null   int64  \n",
      " 5   Family Size Code  1309 non-null   int64  \n",
      " 6   Pclass            1309 non-null   int64  \n",
      " 7   Fare Code         1309 non-null   int64  \n",
      " 8   Embarked          1309 non-null   object \n",
      " 9   Fare              1309 non-null   float64\n",
      " 10  Deck              1309 non-null   object \n",
      " 11  Title             1309 non-null   object \n",
      " 12  Ticket Frequency  1309 non-null   int64  \n",
      "dtypes: float64(1), int64(8), object(4)\n",
      "memory usage: 133.1+ KB\n",
      "None\n"
     ]
    },
    {
     "data": {
      "text/html": [
       "<div>\n",
       "<style scoped>\n",
       "    .dataframe tbody tr th:only-of-type {\n",
       "        vertical-align: middle;\n",
       "    }\n",
       "\n",
       "    .dataframe tbody tr th {\n",
       "        vertical-align: top;\n",
       "    }\n",
       "\n",
       "    .dataframe thead th {\n",
       "        text-align: right;\n",
       "    }\n",
       "</style>\n",
       "<table border=\"1\" class=\"dataframe\">\n",
       "  <thead>\n",
       "    <tr style=\"text-align: right;\">\n",
       "      <th></th>\n",
       "      <th>Sex</th>\n",
       "      <th>Age Code</th>\n",
       "      <th>SibSp</th>\n",
       "      <th>Parch</th>\n",
       "      <th>Mother</th>\n",
       "      <th>Family Size Code</th>\n",
       "      <th>Pclass</th>\n",
       "      <th>Fare Code</th>\n",
       "      <th>Embarked</th>\n",
       "      <th>Fare</th>\n",
       "      <th>Deck</th>\n",
       "      <th>Title</th>\n",
       "      <th>Ticket Frequency</th>\n",
       "    </tr>\n",
       "  </thead>\n",
       "  <tbody>\n",
       "    <tr>\n",
       "      <th>0</th>\n",
       "      <td>male</td>\n",
       "      <td>2</td>\n",
       "      <td>1</td>\n",
       "      <td>0</td>\n",
       "      <td>0</td>\n",
       "      <td>2</td>\n",
       "      <td>3</td>\n",
       "      <td>1</td>\n",
       "      <td>S</td>\n",
       "      <td>7.2500</td>\n",
       "      <td>G</td>\n",
       "      <td>Mr</td>\n",
       "      <td>1</td>\n",
       "    </tr>\n",
       "    <tr>\n",
       "      <th>1</th>\n",
       "      <td>female</td>\n",
       "      <td>3</td>\n",
       "      <td>1</td>\n",
       "      <td>0</td>\n",
       "      <td>0</td>\n",
       "      <td>2</td>\n",
       "      <td>1</td>\n",
       "      <td>5</td>\n",
       "      <td>C</td>\n",
       "      <td>71.2833</td>\n",
       "      <td>C</td>\n",
       "      <td>Mrs</td>\n",
       "      <td>2</td>\n",
       "    </tr>\n",
       "    <tr>\n",
       "      <th>2</th>\n",
       "      <td>female</td>\n",
       "      <td>2</td>\n",
       "      <td>0</td>\n",
       "      <td>0</td>\n",
       "      <td>0</td>\n",
       "      <td>1</td>\n",
       "      <td>3</td>\n",
       "      <td>2</td>\n",
       "      <td>S</td>\n",
       "      <td>7.9250</td>\n",
       "      <td>G</td>\n",
       "      <td>Miss</td>\n",
       "      <td>1</td>\n",
       "    </tr>\n",
       "    <tr>\n",
       "      <th>3</th>\n",
       "      <td>female</td>\n",
       "      <td>3</td>\n",
       "      <td>1</td>\n",
       "      <td>0</td>\n",
       "      <td>0</td>\n",
       "      <td>2</td>\n",
       "      <td>1</td>\n",
       "      <td>5</td>\n",
       "      <td>S</td>\n",
       "      <td>53.1000</td>\n",
       "      <td>C</td>\n",
       "      <td>Mrs</td>\n",
       "      <td>2</td>\n",
       "    </tr>\n",
       "    <tr>\n",
       "      <th>4</th>\n",
       "      <td>male</td>\n",
       "      <td>3</td>\n",
       "      <td>0</td>\n",
       "      <td>0</td>\n",
       "      <td>0</td>\n",
       "      <td>1</td>\n",
       "      <td>3</td>\n",
       "      <td>2</td>\n",
       "      <td>S</td>\n",
       "      <td>8.0500</td>\n",
       "      <td>G</td>\n",
       "      <td>Mr</td>\n",
       "      <td>1</td>\n",
       "    </tr>\n",
       "  </tbody>\n",
       "</table>\n",
       "</div>"
      ],
      "text/plain": [
       "      Sex  Age Code  SibSp  Parch  Mother  Family Size Code  Pclass  \\\n",
       "0    male         2      1      0       0                 2       3   \n",
       "1  female         3      1      0       0                 2       1   \n",
       "2  female         2      0      0       0                 1       3   \n",
       "3  female         3      1      0       0                 2       1   \n",
       "4    male         3      0      0       0                 1       3   \n",
       "\n",
       "   Fare Code Embarked     Fare Deck  Title  Ticket Frequency  \n",
       "0          1        S   7.2500    G     Mr                 1  \n",
       "1          5        C  71.2833    C    Mrs                 2  \n",
       "2          2        S   7.9250    G   Miss                 1  \n",
       "3          5        S  53.1000    C    Mrs                 2  \n",
       "4          2        S   8.0500    G     Mr                 1  "
      ]
     },
     "execution_count": 56,
     "metadata": {},
     "output_type": "execute_result"
    }
   ],
   "source": [
    "# Collect features\n",
    "features = ['Sex', 'Age Code', 'SibSp', 'Parch', 'Mother', 'Family Size Code',\n",
    "            'Pclass', 'Fare Code', 'Embarked', 'Fare', 'Deck',\n",
    "            'Title', 'Ticket Frequency']\n",
    "\n",
    "\n",
    "print(data_all[features].info())\n",
    "data_all[features].head(5)"
   ]
  },
  {
   "cell_type": "markdown",
   "execution_count": null,
   "metadata": {
    "papermill": {
     "duration": 0.06882,
     "end_time": "2020-09-01T16:51:48.875683",
     "exception": false,
     "start_time": "2020-09-01T16:51:48.806863",
     "status": "completed"
    },
    "tags": []
   },
   "source": [
    "**Make data readable for Machine Learning**\n",
    "<br>\n",
    "Before we can feed our dataset into a Machine Learning algorithm we have to make sure that we only have numerical inputs since many algorithms cannot interprete non-numerical values.\n",
    "<br>\n",
    "This means that we have to convert the categorical variables into numerical ones.\n",
    "There are basically two approaches depending on the type of categorical variable:\n",
    "* **Ordinal data**: There is a logical order, i.e. rank order (*e.g. Pclass - first class, second class, third class*) between the values. Here, we use label encoding which means we replace the category names by integer values. This has already been realized in the dataset!\n",
    "* **Nominal data**: There is no specific numerical value or meaning in the data and it therefore cannot be ranked (*e.g. Sex - male, female; Embarkment - S, C, Q; Title - Mr, Mrs, Miss, Misc etc.*). In this case, we use one-hot encoding to make the data 'machine readable',"
   ]
  },
  {
   "cell_type": "code",
   "execution_count": 57,
   "metadata": {
    "execution": {
     "iopub.execute_input": "2020-09-01T16:51:48.969519Z",
     "iopub.status.busy": "2020-09-01T16:51:48.968451Z",
     "iopub.status.idle": "2020-09-01T16:51:49.012190Z",
     "shell.execute_reply": "2020-09-01T16:51:49.011069Z"
    },
    "papermill": {
     "duration": 0.091728,
     "end_time": "2020-09-01T16:51:49.012364",
     "exception": false,
     "start_time": "2020-09-01T16:51:48.920636",
     "status": "completed"
    },
    "tags": []
   },
   "outputs": [
    {
     "data": {
      "text/html": [
       "<div>\n",
       "<style scoped>\n",
       "    .dataframe tbody tr th:only-of-type {\n",
       "        vertical-align: middle;\n",
       "    }\n",
       "\n",
       "    .dataframe tbody tr th {\n",
       "        vertical-align: top;\n",
       "    }\n",
       "\n",
       "    .dataframe thead th {\n",
       "        text-align: right;\n",
       "    }\n",
       "</style>\n",
       "<table border=\"1\" class=\"dataframe\">\n",
       "  <thead>\n",
       "    <tr style=\"text-align: right;\">\n",
       "      <th></th>\n",
       "      <th>Age Code</th>\n",
       "      <th>SibSp</th>\n",
       "      <th>Parch</th>\n",
       "      <th>Mother</th>\n",
       "      <th>Family Size Code</th>\n",
       "      <th>Pclass</th>\n",
       "      <th>Fare Code</th>\n",
       "      <th>Fare</th>\n",
       "      <th>Ticket Frequency</th>\n",
       "      <th>Sex_female</th>\n",
       "      <th>...</th>\n",
       "      <th>Deck_D</th>\n",
       "      <th>Deck_E</th>\n",
       "      <th>Deck_F</th>\n",
       "      <th>Deck_G</th>\n",
       "      <th>Deck_T</th>\n",
       "      <th>Title_ Master</th>\n",
       "      <th>Title_ Miss</th>\n",
       "      <th>Title_ Mr</th>\n",
       "      <th>Title_ Mrs</th>\n",
       "      <th>Title_Misc</th>\n",
       "    </tr>\n",
       "  </thead>\n",
       "  <tbody>\n",
       "    <tr>\n",
       "      <th>891</th>\n",
       "      <td>3</td>\n",
       "      <td>0</td>\n",
       "      <td>0</td>\n",
       "      <td>0</td>\n",
       "      <td>1</td>\n",
       "      <td>3</td>\n",
       "      <td>1</td>\n",
       "      <td>7.8292</td>\n",
       "      <td>1</td>\n",
       "      <td>0</td>\n",
       "      <td>...</td>\n",
       "      <td>0</td>\n",
       "      <td>0</td>\n",
       "      <td>0</td>\n",
       "      <td>1</td>\n",
       "      <td>0</td>\n",
       "      <td>0</td>\n",
       "      <td>0</td>\n",
       "      <td>1</td>\n",
       "      <td>0</td>\n",
       "      <td>0</td>\n",
       "    </tr>\n",
       "    <tr>\n",
       "      <th>892</th>\n",
       "      <td>3</td>\n",
       "      <td>1</td>\n",
       "      <td>0</td>\n",
       "      <td>0</td>\n",
       "      <td>2</td>\n",
       "      <td>3</td>\n",
       "      <td>1</td>\n",
       "      <td>7.0000</td>\n",
       "      <td>1</td>\n",
       "      <td>1</td>\n",
       "      <td>...</td>\n",
       "      <td>0</td>\n",
       "      <td>0</td>\n",
       "      <td>0</td>\n",
       "      <td>1</td>\n",
       "      <td>0</td>\n",
       "      <td>0</td>\n",
       "      <td>0</td>\n",
       "      <td>0</td>\n",
       "      <td>1</td>\n",
       "      <td>0</td>\n",
       "    </tr>\n",
       "    <tr>\n",
       "      <th>893</th>\n",
       "      <td>4</td>\n",
       "      <td>0</td>\n",
       "      <td>0</td>\n",
       "      <td>0</td>\n",
       "      <td>1</td>\n",
       "      <td>2</td>\n",
       "      <td>2</td>\n",
       "      <td>9.6875</td>\n",
       "      <td>1</td>\n",
       "      <td>0</td>\n",
       "      <td>...</td>\n",
       "      <td>0</td>\n",
       "      <td>0</td>\n",
       "      <td>0</td>\n",
       "      <td>1</td>\n",
       "      <td>0</td>\n",
       "      <td>0</td>\n",
       "      <td>0</td>\n",
       "      <td>1</td>\n",
       "      <td>0</td>\n",
       "      <td>0</td>\n",
       "    </tr>\n",
       "    <tr>\n",
       "      <th>894</th>\n",
       "      <td>2</td>\n",
       "      <td>0</td>\n",
       "      <td>0</td>\n",
       "      <td>0</td>\n",
       "      <td>1</td>\n",
       "      <td>3</td>\n",
       "      <td>2</td>\n",
       "      <td>8.6625</td>\n",
       "      <td>1</td>\n",
       "      <td>0</td>\n",
       "      <td>...</td>\n",
       "      <td>0</td>\n",
       "      <td>0</td>\n",
       "      <td>0</td>\n",
       "      <td>1</td>\n",
       "      <td>0</td>\n",
       "      <td>0</td>\n",
       "      <td>0</td>\n",
       "      <td>1</td>\n",
       "      <td>0</td>\n",
       "      <td>0</td>\n",
       "    </tr>\n",
       "    <tr>\n",
       "      <th>895</th>\n",
       "      <td>2</td>\n",
       "      <td>1</td>\n",
       "      <td>1</td>\n",
       "      <td>0</td>\n",
       "      <td>3</td>\n",
       "      <td>3</td>\n",
       "      <td>3</td>\n",
       "      <td>12.2875</td>\n",
       "      <td>2</td>\n",
       "      <td>1</td>\n",
       "      <td>...</td>\n",
       "      <td>0</td>\n",
       "      <td>0</td>\n",
       "      <td>0</td>\n",
       "      <td>1</td>\n",
       "      <td>0</td>\n",
       "      <td>0</td>\n",
       "      <td>0</td>\n",
       "      <td>0</td>\n",
       "      <td>1</td>\n",
       "      <td>0</td>\n",
       "    </tr>\n",
       "  </tbody>\n",
       "</table>\n",
       "<p>5 rows × 27 columns</p>\n",
       "</div>"
      ],
      "text/plain": [
       "     Age Code  SibSp  Parch  Mother  Family Size Code  Pclass  Fare Code  \\\n",
       "891         3      0      0       0                 1       3          1   \n",
       "892         3      1      0       0                 2       3          1   \n",
       "893         4      0      0       0                 1       2          2   \n",
       "894         2      0      0       0                 1       3          2   \n",
       "895         2      1      1       0                 3       3          3   \n",
       "\n",
       "        Fare  Ticket Frequency  Sex_female  ...  Deck_D  Deck_E  Deck_F  \\\n",
       "891   7.8292                 1           0  ...       0       0       0   \n",
       "892   7.0000                 1           1  ...       0       0       0   \n",
       "893   9.6875                 1           0  ...       0       0       0   \n",
       "894   8.6625                 1           0  ...       0       0       0   \n",
       "895  12.2875                 2           1  ...       0       0       0   \n",
       "\n",
       "     Deck_G  Deck_T  Title_ Master  Title_ Miss  Title_ Mr  Title_ Mrs  \\\n",
       "891       1       0              0            0          1           0   \n",
       "892       1       0              0            0          0           1   \n",
       "893       1       0              0            0          1           0   \n",
       "894       1       0              0            0          1           0   \n",
       "895       1       0              0            0          0           1   \n",
       "\n",
       "     Title_Misc  \n",
       "891           0  \n",
       "892           0  \n",
       "893           0  \n",
       "894           0  \n",
       "895           0  \n",
       "\n",
       "[5 rows x 27 columns]"
      ]
     },
     "execution_count": 57,
     "metadata": {},
     "output_type": "execute_result"
    }
   ],
   "source": [
    "# Get dummy code for nominal features\n",
    "# (function 'get_dummies' just affets the variables with dtype 'object')\n",
    "X_train = pd.get_dummies(train_data[features])\n",
    "X_test  = pd.get_dummies(test_data[ features])\n",
    "\n",
    "X_test.head()"
   ]
  },
  {
   "cell_type": "code",
   "execution_count": 58,
   "metadata": {
    "execution": {
     "iopub.execute_input": "2020-09-01T16:51:49.095325Z",
     "iopub.status.busy": "2020-09-01T16:51:49.094555Z",
     "iopub.status.idle": "2020-09-01T16:51:49.098357Z",
     "shell.execute_reply": "2020-09-01T16:51:49.097731Z"
    },
    "papermill": {
     "duration": 0.045083,
     "end_time": "2020-09-01T16:51:49.098473",
     "exception": false,
     "start_time": "2020-09-01T16:51:49.053390",
     "status": "completed"
    },
    "tags": []
   },
   "outputs": [],
   "source": [
    "# Get target variable 'Survived'\n",
    "y = train_data['Survived']"
   ]
  },
  {
   "cell_type": "code",
   "execution_count": 59,
   "metadata": {
    "execution": {
     "iopub.execute_input": "2020-09-01T16:51:49.186290Z",
     "iopub.status.busy": "2020-09-01T16:51:49.185127Z",
     "iopub.status.idle": "2020-09-01T16:51:57.926326Z",
     "shell.execute_reply": "2020-09-01T16:51:57.925686Z"
    },
    "papermill": {
     "duration": 8.791217,
     "end_time": "2020-09-01T16:51:57.926448",
     "exception": false,
     "start_time": "2020-09-01T16:51:49.135231",
     "status": "completed"
    },
    "tags": []
   },
   "outputs": [
    {
     "name": "stderr",
     "output_type": "stream",
     "text": [
      "[Parallel(n_jobs=-1)]: Using backend ThreadingBackend with 4 concurrent workers.\n",
      "[Parallel(n_jobs=-1)]: Done  42 tasks      | elapsed:    0.1s\n",
      "[Parallel(n_jobs=-1)]: Done 192 tasks      | elapsed:    0.5s\n",
      "[Parallel(n_jobs=-1)]: Done 442 tasks      | elapsed:    1.2s\n",
      "[Parallel(n_jobs=-1)]: Done 792 tasks      | elapsed:    2.1s\n",
      "[Parallel(n_jobs=-1)]: Done 1242 tasks      | elapsed:    3.2s\n",
      "[Parallel(n_jobs=-1)]: Done 1792 tasks      | elapsed:    4.6s\n",
      "[Parallel(n_jobs=-1)]: Done 1800 out of 1800 | elapsed:    4.6s finished\n",
      "[Parallel(n_jobs=4)]: Using backend ThreadingBackend with 4 concurrent workers.\n",
      "[Parallel(n_jobs=4)]: Done  42 tasks      | elapsed:    0.0s\n",
      "[Parallel(n_jobs=4)]: Done 192 tasks      | elapsed:    0.1s\n",
      "[Parallel(n_jobs=4)]: Done 442 tasks      | elapsed:    0.2s\n",
      "[Parallel(n_jobs=4)]: Done 792 tasks      | elapsed:    0.3s\n",
      "[Parallel(n_jobs=4)]: Done 1242 tasks      | elapsed:    0.4s\n",
      "[Parallel(n_jobs=4)]: Done 1792 tasks      | elapsed:    0.6s\n",
      "[Parallel(n_jobs=4)]: Done 1800 out of 1800 | elapsed:    0.6s finished\n",
      "[Parallel(n_jobs=4)]: Using backend ThreadingBackend with 4 concurrent workers.\n",
      "[Parallel(n_jobs=4)]: Done  42 tasks      | elapsed:    0.0s\n",
      "[Parallel(n_jobs=4)]: Done 192 tasks      | elapsed:    0.1s\n",
      "[Parallel(n_jobs=4)]: Done 442 tasks      | elapsed:    0.2s\n",
      "[Parallel(n_jobs=4)]: Done 792 tasks      | elapsed:    0.3s\n",
      "[Parallel(n_jobs=4)]: Done 1242 tasks      | elapsed:    0.5s\n",
      "[Parallel(n_jobs=4)]: Done 1792 tasks      | elapsed:    0.7s\n",
      "[Parallel(n_jobs=4)]: Done 1800 out of 1800 | elapsed:    0.7s finished\n"
     ]
    },
    {
     "name": "stdout",
     "output_type": "stream",
     "text": [
      "85.3\n",
      "Your submission was successfully saved!\n"
     ]
    },
    {
     "data": {
      "text/html": [
       "<div>\n",
       "<style scoped>\n",
       "    .dataframe tbody tr th:only-of-type {\n",
       "        vertical-align: middle;\n",
       "    }\n",
       "\n",
       "    .dataframe tbody tr th {\n",
       "        vertical-align: top;\n",
       "    }\n",
       "\n",
       "    .dataframe thead th {\n",
       "        text-align: right;\n",
       "    }\n",
       "</style>\n",
       "<table border=\"1\" class=\"dataframe\">\n",
       "  <thead>\n",
       "    <tr style=\"text-align: right;\">\n",
       "      <th></th>\n",
       "      <th>PassengerID</th>\n",
       "      <th>Survived</th>\n",
       "    </tr>\n",
       "  </thead>\n",
       "  <tbody>\n",
       "    <tr>\n",
       "      <th>891</th>\n",
       "      <td>892</td>\n",
       "      <td>0</td>\n",
       "    </tr>\n",
       "    <tr>\n",
       "      <th>892</th>\n",
       "      <td>893</td>\n",
       "      <td>1</td>\n",
       "    </tr>\n",
       "    <tr>\n",
       "      <th>893</th>\n",
       "      <td>894</td>\n",
       "      <td>0</td>\n",
       "    </tr>\n",
       "    <tr>\n",
       "      <th>894</th>\n",
       "      <td>895</td>\n",
       "      <td>0</td>\n",
       "    </tr>\n",
       "    <tr>\n",
       "      <th>895</th>\n",
       "      <td>896</td>\n",
       "      <td>1</td>\n",
       "    </tr>\n",
       "  </tbody>\n",
       "</table>\n",
       "</div>"
      ],
      "text/plain": [
       "     PassengerID  Survived\n",
       "891          892         0\n",
       "892          893         1\n",
       "893          894         0\n",
       "894          895         0\n",
       "895          896         1"
      ]
     },
     "execution_count": 59,
     "metadata": {},
     "output_type": "execute_result"
    }
   ],
   "source": [
    "# Define model\n",
    "#model = RandomForestClassifier(n_estimators=60,max_depth=5,random_state=1)\n",
    "\n",
    "model = RandomForestClassifier(n_estimators=1800,\n",
    "                               max_depth=8,\n",
    "                               min_samples_split=6,\n",
    "                               min_samples_leaf=6,\n",
    "                               max_features='auto',\n",
    "                               oob_score=True,\n",
    "                               random_state=42,\n",
    "                               n_jobs=-1,\n",
    "                               verbose=1)\n",
    "\n",
    "\n",
    "# Fit model to train data \"survived\"\n",
    "model.fit(X_train, y)\n",
    "\n",
    "# Get predictions\n",
    "predictions = model.predict(X_test)\n",
    "\n",
    "#model.score(X,y)\n",
    "acc_random_forest = round(model.score(X_train, y) * 100, 2)\n",
    "print(acc_random_forest)\n",
    "\n",
    "\n",
    "# Compile prediction with PassengerID into data frame\n",
    "output = pd.DataFrame({'PassengerID': test_data.PassengerId, 'Survived': predictions})\n",
    "\n",
    "output = output.convert_dtypes() # also convert output to int!\n",
    "\n",
    "# Write data frame with predition to csv file\n",
    "output.to_csv('my_submission.csv', index=False)\n",
    "print(\"Your submission was successfully saved!\")\n",
    "\n",
    "output.head()"
   ]
  }
 ],
 "metadata": {
  "kernelspec": {
   "display_name": "Python 3",
   "language": "python",
   "name": "python3"
  },
  "language_info": {
   "codemirror_mode": {
    "name": "ipython",
    "version": 3
   },
   "file_extension": ".py",
   "mimetype": "text/x-python",
   "name": "python",
   "nbconvert_exporter": "python",
   "pygments_lexer": "ipython3",
   "version": "3.7.6"
  },
  "papermill": {
   "duration": 31.330549,
   "end_time": "2020-09-01T16:51:58.071701",
   "environment_variables": {},
   "exception": null,
   "input_path": "__notebook__.ipynb",
   "output_path": "__notebook__.ipynb",
   "parameters": {},
   "start_time": "2020-09-01T16:51:26.741152",
   "version": "2.1.0"
  }
 },
 "nbformat": 4,
 "nbformat_minor": 4
}
